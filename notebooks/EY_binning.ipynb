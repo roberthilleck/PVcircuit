{
 "cells": [
  {
   "cell_type": "code",
   "execution_count": 4,
   "metadata": {},
   "outputs": [
    {
     "name": "stdout",
     "output_type": "stream",
     "text": [
      "The autoreload extension is already loaded. To reload it, use:\n",
      "  %reload_ext autoreload\n"
     ]
    }
   ],
   "source": [
    "%load_ext autoreload\n",
    "%autoreload 2\n",
    "# %matplotlib widget\n",
    "# %matplotlib inline\n"
   ]
  },
  {
   "cell_type": "code",
   "execution_count": 5,
   "metadata": {},
   "outputs": [],
   "source": [
    "import pandas as pd\n",
    "import numpy as np\n",
    "import matplotlib.pyplot as plt\n",
    "import matplotlib as mpl\n",
    "import matplotlib.dates as mdates\n",
    "import pvcircuit as pvc\n",
    "from scipy import constants\n",
    "from scipy.optimize import curve_fit, fsolve\n",
    "from scipy.special import erfc\n",
    "import itertools\n",
    "\n",
    "from pvcircuit.physics_helpers import fit_sandia_simple\n",
    "from pvlib.pvsystem import singlediode\n",
    "import pvlib\n",
    "\n",
    "import os\n",
    "import sys\n",
    "\n",
    "from glob import glob\n",
    "from datetime import datetime, timedelta\n",
    "import time\n",
    "from tqdm.notebook import trange\n",
    "import timeit\n",
    "import pickle\n",
    "\n",
    "# set path for NREL meteorological package and import\n",
    "# sys.path.append(\"../../NREL_Meteorological\")\n",
    "from pvcircuit import EY,Spectra, Meteorological, sync\n",
    "import warnings\n",
    "from scipy.optimize import OptimizeWarning\n",
    "import pickle\n",
    "from scipy.interpolate import interp1d\n",
    "from IPython.display import display, clear_output\n",
    "from pvcircuit.EY2 import EnergyYield\n"
   ]
  },
  {
   "cell_type": "code",
   "execution_count": 18,
   "metadata": {},
   "outputs": [
    {
     "name": "stdout",
     "output_type": "stream",
     "text": [
      "Stored meteo data and spectra reloaded\n"
     ]
    }
   ],
   "source": [
    "dev3t = pvc.Tandem3T()\n",
    "ey = EnergyYield(dev3t, 1.7)\n",
    "# ey.load_meteo(pd.Timestamp(2021,11,1),pd.Timestamp(2021,11,11)-pd.Timedelta(seconds=1),'1T')con\n",
    "ey.load_meteo(pd.Timestamp(2020,1,27),pd.Timestamp(2023,1,27)-pd.Timedelta(minutes=1),'1T')"
   ]
  },
  {
   "cell_type": "markdown",
   "metadata": {},
   "source": [
    "Filter environmental data"
   ]
  },
  {
   "cell_type": "code",
   "execution_count": 17,
   "metadata": {},
   "outputs": [
    {
     "ename": "AttributeError",
     "evalue": "'EnergyYield' object has no attribute 'meteo'",
     "output_type": "error",
     "traceback": [
      "\u001b[0;31m---------------------------------------------------------------------------\u001b[0m",
      "\u001b[0;31mAttributeError\u001b[0m                            Traceback (most recent call last)",
      "Cell \u001b[0;32mIn[17], line 1\u001b[0m\n\u001b[0;32m----> 1\u001b[0m ey\u001b[39m.\u001b[39mfilter_meteo()\n",
      "File \u001b[0;32m/lustre/eaglefs/scratch/rwitteck/pvc/pvcircuit/EY2.py:700\u001b[0m, in \u001b[0;36mEnergyYield.filter_meteo\u001b[0;34m(self)\u001b[0m\n\u001b[1;32m    682\u001b[0m \u001b[39mdef\u001b[39;00m \u001b[39mfilter_meteo\u001b[39m(\u001b[39mself\u001b[39m):\n\u001b[1;32m    683\u001b[0m     \u001b[39m# remove nan\u001b[39;00m\n\u001b[1;32m    684\u001b[0m     \u001b[39m# nan_filter = self.spectra.isna().any(axis=1) | self.meteo.isna().any(axis=1)\u001b[39;00m\n\u001b[0;32m   (...)\u001b[0m\n\u001b[1;32m    696\u001b[0m     \u001b[39m# spectra_sync = spectra_sync[general_filter]\u001b[39;00m\n\u001b[1;32m    697\u001b[0m     \u001b[39m# meteo_sync = meteo_sync[general_filter]\u001b[39;00m\n\u001b[1;32m    699\u001b[0m     spectra_sync \u001b[39m=\u001b[39m \u001b[39mself\u001b[39m\u001b[39m.\u001b[39mspectra\n\u001b[0;32m--> 700\u001b[0m     meteo_sync \u001b[39m=\u001b[39m \u001b[39mself\u001b[39m\u001b[39m.\u001b[39mmeteo\n\u001b[1;32m    702\u001b[0m     \u001b[39m# remove nan data\u001b[39;00m\n\u001b[1;32m    703\u001b[0m     nan_filter \u001b[39m=\u001b[39m \u001b[39mself\u001b[39m\u001b[39m.\u001b[39mspectra\u001b[39m.\u001b[39misna()\u001b[39m.\u001b[39many(axis\u001b[39m=\u001b[39m\u001b[39m1\u001b[39m) \u001b[39m|\u001b[39m \u001b[39mself\u001b[39m\u001b[39m.\u001b[39mmeteo\u001b[39m.\u001b[39misna()\u001b[39m.\u001b[39many(axis\u001b[39m=\u001b[39m\u001b[39m1\u001b[39m)\n",
      "\u001b[0;31mAttributeError\u001b[0m: 'EnergyYield' object has no attribute 'meteo'"
     ]
    }
   ],
   "source": [
    "ey.filter_meteo()"
   ]
  },
  {
   "cell_type": "markdown",
   "metadata": {},
   "source": [
    "Load device parameters"
   ]
  },
  {
   "cell_type": "code",
   "execution_count": 11,
   "metadata": {},
   "outputs": [],
   "source": [
    "if \"notebook\" in os.getcwd():\n",
    "    path = os.path.join(os.path.dirname(os.getcwd()), \"data\")  # Data files here\n",
    "else:\n",
    "    path = os.path.join(os.getcwd(), \"data\")  # Data files here\n",
    "\n",
    "\n",
    "datalist = glob(path + \"**\" + os.path.sep + \"*\")\n",
    "# print(*(f\"{i:>2} --> {os.path.basename(x)}\" for i, x in enumerate(datalist)), sep=\"\\n\")\n",
    "\n",
    "fp_psk_eqe = {\n",
    "    1.25: [file for file in datalist if \"1.25\" in file and \"_QE\" in file][0],\n",
    "    1.58: [file for file in datalist if \"1.58eV_QE.\" in file and \"_QE\" in file][0],\n",
    "    1.63: [file for file in datalist if \"1.63\" in file and \"_QE\" in file][0],\n",
    "    1.68: [file for file in datalist if \"1.68\" in file and \"_QE\" in file][0],\n",
    "    1.70: [file for file in datalist if \"1.70\" in file and \"_QE\" in file][0],\n",
    "    1.75: [file for file in datalist if \"1.75\" in file and \"_QE\" in file][0],\n",
    "    1.80: [file for file in datalist if \"1.80\" in file and \"_QE\" in file][0],\n",
    "}\n",
    "\n",
    "fp_psk_trans = {\n",
    "    1.25: [file for file in datalist if \"1.53\" in file and \"_tr\" in file][0],\n",
    "    1.58: [file for file in datalist if \"1.63\" in file and \"_tr\" in file][0],\n",
    "    1.63: [file for file in datalist if \"1.63\" in file and \"_tr\" in file][0],\n",
    "    1.68: [file for file in datalist if \"1.63\" in file and \"_tr\" in file][0],\n",
    "    1.70: [file for file in datalist if \"1.70\" in file and \"_tr\" in file][0],\n",
    "    1.75: [file for file in datalist if \"1.70\" in file and \"_tr\" in file][0],\n",
    "    1.80: [file for file in datalist if \"1.70\" in file and \"_tr\" in file][0],\n",
    "}\n",
    "\n",
    "fp_psk_jv = {\n",
    "    1.25: [file for file in datalist if \"1.25\" in file and \"_JV\" in file][0],\n",
    "    # 1.58 : [file for file in datalist if \"1.58eV_\" in file and \"_JV\" in file][0],\n",
    "    1.63: [file for file in datalist if \"1.63\" in file and \"_JV\" in file][0],\n",
    "    1.68: [file for file in datalist if \"1.68\" in file and \"_JV\" in file][0],\n",
    "    1.70: [file for file in datalist if \"1.70\" in file and \"_JV\" in file][0],\n",
    "    1.75: [file for file in datalist if \"1.75\" in file and \"_JV\" in file][0],\n",
    "    1.80: [file for file in datalist if \"1.80\" in file and \"_JV\" in file][0],\n",
    "}\n",
    "\n",
    "\n",
    "# file_psk_trans = \"Pvsk0111D_1.7sb_tr.csv\"\n",
    "fp_si_eqe = {1.12: [file for file in datalist if \"Si_101_E1_005_14_2B_postITO_QE.xlsx\" in file][0]}\n",
    "fp_si_jv = {1.12: [file for file in datalist if \"Si_101_E1_005_14_2B_postITO_JV.csv\" in file][0]}"
   ]
  },
  {
   "cell_type": "code",
   "execution_count": 12,
   "metadata": {},
   "outputs": [
    {
     "name": "stderr",
     "output_type": "stream",
     "text": [
      "/home/rwitteck/coding/pvc/.cenv/lib/python3.11/site-packages/scipy/optimize/_minpack_py.py:906: OptimizeWarning: Covariance of the parameters could not be estimated\n",
      "  warnings.warn('Covariance of the parameters could not be estimated',\n",
      "/home/rwitteck/coding/pvc/.cenv/lib/python3.11/site-packages/scipy/optimize/_minpack_py.py:906: OptimizeWarning: Covariance of the parameters could not be estimated\n",
      "  warnings.warn('Covariance of the parameters could not be estimated',\n",
      "/home/rwitteck/coding/pvc/.cenv/lib/python3.11/site-packages/scipy/optimize/_minpack_py.py:906: OptimizeWarning: Covariance of the parameters could not be estimated\n",
      "  warnings.warn('Covariance of the parameters could not be estimated',\n",
      "/home/rwitteck/coding/pvc/.cenv/lib/python3.11/site-packages/scipy/optimize/_minpack_py.py:906: OptimizeWarning: Covariance of the parameters could not be estimated\n",
      "  warnings.warn('Covariance of the parameters could not be estimated',\n",
      "/home/rwitteck/coding/pvc/.cenv/lib/python3.11/site-packages/scipy/optimize/_minpack_py.py:906: OptimizeWarning: Covariance of the parameters could not be estimated\n",
      "  warnings.warn('Covariance of the parameters could not be estimated',\n",
      "/home/rwitteck/coding/pvc/.cenv/lib/python3.11/site-packages/scipy/optimize/_minpack_py.py:906: OptimizeWarning: Covariance of the parameters could not be estimated\n",
      "  warnings.warn('Covariance of the parameters could not be estimated',\n"
     ]
    }
   ],
   "source": [
    "ey.load_top_cell_diode_params(fp_psk_jv)\n",
    "ey.load_top_cell_eqe(fp_psk_eqe)\n",
    "ey.load_top_cell_transmittance(fp_psk_trans)\n",
    "ey.load_bottom_cell_diode_params(fp_si_jv)\n",
    "ey.load_bottom_cell_eqe(fp_si_eqe)\n",
    "ey.make_mean_tandem()\n"
   ]
  },
  {
   "cell_type": "markdown",
   "metadata": {},
   "source": [
    "### Prepare simulation\n",
    "- Get the cell temperature\n",
    "- Calculate temperautre dependent EQE and Eg\n",
    "- Calculate current for top and bottom cell based on spectral input\n"
   ]
  },
  {
   "cell_type": "code",
   "execution_count": 13,
   "metadata": {},
   "outputs": [
    {
     "name": "stderr",
     "output_type": "stream",
     "text": [
      "/home/rwitteck/coding/pvc/.cenv/lib/python3.11/site-packages/scipy/optimize/_minpack_py.py:906: OptimizeWarning: Covariance of the parameters could not be estimated\n",
      "  warnings.warn('Covariance of the parameters could not be estimated',\n"
     ]
    },
    {
     "name": "stdout",
     "output_type": "stream",
     "text": [
      "running with 36 pools\n"
     ]
    },
    {
     "data": {
      "application/vnd.jupyter.widget-view+json": {
       "model_id": "a7643bdbd01e4a0cbff09aeb4a927958",
       "version_major": 2,
       "version_minor": 0
      },
      "text/plain": [
       "Processing 2T:   0%|          | 0/1577269 [00:00<?, ?it/s]"
      ]
     },
     "metadata": {},
     "output_type": "display_data"
    },
    {
     "name": "stderr",
     "output_type": "stream",
     "text": [
      "/lustre/eaglefs/scratch/rwitteck/pvc/pvcircuit/junction.py:373: RuntimeWarning: invalid value encountered in power\n",
      "  return (self.Jdb * self.J0scale) ** (1.0 / self.n) * self.J0ratio / self.J0scale\n",
      "/lustre/eaglefs/scratch/rwitteck/pvc/pvcircuit/junction.py:373: RuntimeWarning: invalid value encountered in power\n",
      "  return (self.Jdb * self.J0scale) ** (1.0 / self.n) * self.J0ratio / self.J0scale\n",
      "/lustre/eaglefs/scratch/rwitteck/pvc/pvcircuit/junction.py:373: RuntimeWarning: invalid value encountered in power\n",
      "  return (self.Jdb * self.J0scale) ** (1.0 / self.n) * self.J0ratio / self.J0scale\n",
      "/lustre/eaglefs/scratch/rwitteck/pvc/pvcircuit/junction.py:373: RuntimeWarning: invalid value encountered in power\n",
      "  return (self.Jdb * self.J0scale) ** (1.0 / self.n) * self.J0ratio / self.J0scale\n",
      "/lustre/eaglefs/scratch/rwitteck/pvc/pvcircuit/junction.py:373: RuntimeWarning: invalid value encountered in power\n",
      "  return (self.Jdb * self.J0scale) ** (1.0 / self.n) * self.J0ratio / self.J0scale\n",
      "/lustre/eaglefs/scratch/rwitteck/pvc/pvcircuit/junction.py:373: RuntimeWarning: invalid value encountered in power\n",
      "  return (self.Jdb * self.J0scale) ** (1.0 / self.n) * self.J0ratio / self.J0scale\n",
      "/lustre/eaglefs/scratch/rwitteck/pvc/pvcircuit/junction.py:373: RuntimeWarning: invalid value encountered in power\n",
      "  return (self.Jdb * self.J0scale) ** (1.0 / self.n) * self.J0ratio / self.J0scale\n",
      "/lustre/eaglefs/scratch/rwitteck/pvc/pvcircuit/junction.py:373: RuntimeWarning: invalid value encountered in power\n",
      "  return (self.Jdb * self.J0scale) ** (1.0 / self.n) * self.J0ratio / self.J0scale\n",
      "/lustre/eaglefs/scratch/rwitteck/pvc/pvcircuit/junction.py:373: RuntimeWarning: invalid value encountered in power\n",
      "  return (self.Jdb * self.J0scale) ** (1.0 / self.n) * self.J0ratio / self.J0scale\n"
     ]
    },
    {
     "data": {
      "application/vnd.jupyter.widget-view+json": {
       "model_id": "00029878b45a4df59afd8a8fa5404d24",
       "version_major": 2,
       "version_minor": 0
      },
      "text/plain": [
       "Processing 3T:   0%|          | 0/1577269 [00:00<?, ?it/s]"
      ]
     },
     "metadata": {},
     "output_type": "display_data"
    },
    {
     "name": "stderr",
     "output_type": "stream",
     "text": [
      "/lustre/eaglefs/scratch/rwitteck/pvc/pvcircuit/junction.py:373: RuntimeWarning: invalid value encountered in power\n",
      "  return (self.Jdb * self.J0scale) ** (1.0 / self.n) * self.J0ratio / self.J0scale\n",
      "/lustre/eaglefs/scratch/rwitteck/pvc/pvcircuit/junction.py:373: RuntimeWarning: invalid value encountered in power\n",
      "  return (self.Jdb * self.J0scale) ** (1.0 / self.n) * self.J0ratio / self.J0scale\n",
      "/lustre/eaglefs/scratch/rwitteck/pvc/pvcircuit/junction.py:373: RuntimeWarning: invalid value encountered in power\n",
      "  return (self.Jdb * self.J0scale) ** (1.0 / self.n) * self.J0ratio / self.J0scale\n",
      "/lustre/eaglefs/scratch/rwitteck/pvc/pvcircuit/junction.py:373: RuntimeWarning: invalid value encountered in power\n",
      "  return (self.Jdb * self.J0scale) ** (1.0 / self.n) * self.J0ratio / self.J0scale\n",
      "/lustre/eaglefs/scratch/rwitteck/pvc/pvcircuit/junction.py:373: RuntimeWarning: invalid value encountered in power\n",
      "  return (self.Jdb * self.J0scale) ** (1.0 / self.n) * self.J0ratio / self.J0scale\n",
      "/lustre/eaglefs/scratch/rwitteck/pvc/pvcircuit/junction.py:373: RuntimeWarning: invalid value encountered in power\n",
      "  return (self.Jdb * self.J0scale) ** (1.0 / self.n) * self.J0ratio / self.J0scale\n",
      "/lustre/eaglefs/scratch/rwitteck/pvc/pvcircuit/junction.py:373: RuntimeWarning: invalid value encountered in power\n",
      "  return (self.Jdb * self.J0scale) ** (1.0 / self.n) * self.J0ratio / self.J0scale\n",
      "/lustre/eaglefs/scratch/rwitteck/pvc/pvcircuit/junction.py:373: RuntimeWarning: invalid value encountered in power\n",
      "  return (self.Jdb * self.J0scale) ** (1.0 / self.n) * self.J0ratio / self.J0scale\n",
      "/lustre/eaglefs/scratch/rwitteck/pvc/pvcircuit/junction.py:373: RuntimeWarning: invalid value encountered in power\n",
      "  return (self.Jdb * self.J0scale) ** (1.0 / self.n) * self.J0ratio / self.J0scale\n",
      "/lustre/eaglefs/scratch/rwitteck/pvc/pvcircuit/junction.py:373: RuntimeWarning: invalid value encountered in power\n",
      "  return (self.Jdb * self.J0scale) ** (1.0 / self.n) * self.J0ratio / self.J0scale\n"
     ]
    },
    {
     "data": {
      "application/vnd.jupyter.widget-view+json": {
       "model_id": "c708b7d3c6b146e9849b523058746559",
       "version_major": 2,
       "version_minor": 0
      },
      "text/plain": [
       "Processing 4T:   0%|          | 0/1577269 [00:00<?, ?it/s]"
      ]
     },
     "metadata": {},
     "output_type": "display_data"
    },
    {
     "name": "stderr",
     "output_type": "stream",
     "text": [
      "/lustre/eaglefs/scratch/rwitteck/pvc/pvcircuit/tandem3T.py:696: RuntimeWarning: invalid value encountered in scalar divide\n",
      "  if (Pmpr - Pmpo) / Pmpr < tol:\n",
      "/lustre/eaglefs/scratch/rwitteck/pvc/pvcircuit/tandem3T.py:696: RuntimeWarning: invalid value encountered in scalar divide\n",
      "  if (Pmpr - Pmpo) / Pmpr < tol:\n",
      "/lustre/eaglefs/scratch/rwitteck/pvc/pvcircuit/tandem3T.py:696: RuntimeWarning: invalid value encountered in scalar divide\n",
      "  if (Pmpr - Pmpo) / Pmpr < tol:\n",
      "/lustre/eaglefs/scratch/rwitteck/pvc/pvcircuit/tandem3T.py:696: RuntimeWarning: invalid value encountered in scalar divide\n",
      "  if (Pmpr - Pmpo) / Pmpr < tol:\n",
      "/lustre/eaglefs/scratch/rwitteck/pvc/pvcircuit/tandem3T.py:696: RuntimeWarning: invalid value encountered in scalar divide\n",
      "  if (Pmpr - Pmpo) / Pmpr < tol:\n",
      "/lustre/eaglefs/scratch/rwitteck/pvc/pvcircuit/tandem3T.py:696: RuntimeWarning: invalid value encountered in scalar divide\n",
      "  if (Pmpr - Pmpo) / Pmpr < tol:\n",
      "/lustre/eaglefs/scratch/rwitteck/pvc/pvcircuit/tandem3T.py:696: RuntimeWarning: invalid value encountered in scalar divide\n",
      "  if (Pmpr - Pmpo) / Pmpr < tol:\n",
      "/lustre/eaglefs/scratch/rwitteck/pvc/pvcircuit/tandem3T.py:696: RuntimeWarning: invalid value encountered in scalar divide\n",
      "  if (Pmpr - Pmpo) / Pmpr < tol:\n",
      "/lustre/eaglefs/scratch/rwitteck/pvc/pvcircuit/tandem3T.py:696: RuntimeWarning: invalid value encountered in scalar divide\n",
      "  if (Pmpr - Pmpo) / Pmpr < tol:\n",
      "/lustre/eaglefs/scratch/rwitteck/pvc/pvcircuit/tandem3T.py:696: RuntimeWarning: invalid value encountered in scalar divide\n",
      "  if (Pmpr - Pmpo) / Pmpr < tol:\n",
      "/lustre/eaglefs/scratch/rwitteck/pvc/pvcircuit/tandem3T.py:696: RuntimeWarning: invalid value encountered in scalar divide\n",
      "  if (Pmpr - Pmpo) / Pmpr < tol:\n",
      "/lustre/eaglefs/scratch/rwitteck/pvc/pvcircuit/tandem3T.py:696: RuntimeWarning: invalid value encountered in scalar divide\n",
      "  if (Pmpr - Pmpo) / Pmpr < tol:\n",
      "/lustre/eaglefs/scratch/rwitteck/pvc/pvcircuit/tandem3T.py:696: RuntimeWarning: invalid value encountered in scalar divide\n",
      "  if (Pmpr - Pmpo) / Pmpr < tol:\n",
      "/lustre/eaglefs/scratch/rwitteck/pvc/pvcircuit/tandem3T.py:696: RuntimeWarning: invalid value encountered in scalar divide\n",
      "  if (Pmpr - Pmpo) / Pmpr < tol:\n",
      "/lustre/eaglefs/scratch/rwitteck/pvc/pvcircuit/tandem3T.py:696: RuntimeWarning: invalid value encountered in scalar divide\n",
      "  if (Pmpr - Pmpo) / Pmpr < tol:\n",
      "/lustre/eaglefs/scratch/rwitteck/pvc/pvcircuit/tandem3T.py:696: RuntimeWarning: invalid value encountered in scalar divide\n",
      "  if (Pmpr - Pmpo) / Pmpr < tol:\n",
      "/lustre/eaglefs/scratch/rwitteck/pvc/pvcircuit/tandem3T.py:696: RuntimeWarning: invalid value encountered in scalar divide\n",
      "  if (Pmpr - Pmpo) / Pmpr < tol:\n",
      "/lustre/eaglefs/scratch/rwitteck/pvc/pvcircuit/tandem3T.py:696: RuntimeWarning: invalid value encountered in scalar divide\n",
      "  if (Pmpr - Pmpo) / Pmpr < tol:\n",
      "/lustre/eaglefs/scratch/rwitteck/pvc/pvcircuit/tandem3T.py:696: RuntimeWarning: invalid value encountered in scalar divide\n",
      "  if (Pmpr - Pmpo) / Pmpr < tol:\n",
      "/lustre/eaglefs/scratch/rwitteck/pvc/pvcircuit/tandem3T.py:696: RuntimeWarning: invalid value encountered in scalar divide\n",
      "  if (Pmpr - Pmpo) / Pmpr < tol:\n",
      "/lustre/eaglefs/scratch/rwitteck/pvc/pvcircuit/tandem3T.py:696: RuntimeWarning: invalid value encountered in scalar divide\n",
      "  if (Pmpr - Pmpo) / Pmpr < tol:\n",
      "/lustre/eaglefs/scratch/rwitteck/pvc/pvcircuit/tandem3T.py:696: RuntimeWarning: invalid value encountered in scalar divide\n",
      "  if (Pmpr - Pmpo) / Pmpr < tol:\n",
      "/lustre/eaglefs/scratch/rwitteck/pvc/pvcircuit/tandem3T.py:696: RuntimeWarning: invalid value encountered in scalar divide\n",
      "  if (Pmpr - Pmpo) / Pmpr < tol:\n",
      "/lustre/eaglefs/scratch/rwitteck/pvc/pvcircuit/tandem3T.py:696: RuntimeWarning: invalid value encountered in scalar divide\n",
      "  if (Pmpr - Pmpo) / Pmpr < tol:\n",
      "/lustre/eaglefs/scratch/rwitteck/pvc/pvcircuit/tandem3T.py:696: RuntimeWarning: invalid value encountered in scalar divide\n",
      "  if (Pmpr - Pmpo) / Pmpr < tol:\n",
      "/lustre/eaglefs/scratch/rwitteck/pvc/pvcircuit/tandem3T.py:696: RuntimeWarning: invalid value encountered in scalar divide\n",
      "  if (Pmpr - Pmpo) / Pmpr < tol:\n",
      "/lustre/eaglefs/scratch/rwitteck/pvc/pvcircuit/tandem3T.py:696: RuntimeWarning: invalid value encountered in scalar divide\n",
      "  if (Pmpr - Pmpo) / Pmpr < tol:\n",
      "/lustre/eaglefs/scratch/rwitteck/pvc/pvcircuit/tandem3T.py:696: RuntimeWarning: invalid value encountered in scalar divide\n",
      "  if (Pmpr - Pmpo) / Pmpr < tol:\n",
      "/lustre/eaglefs/scratch/rwitteck/pvc/pvcircuit/tandem3T.py:696: RuntimeWarning: invalid value encountered in scalar divide\n",
      "  if (Pmpr - Pmpo) / Pmpr < tol:\n",
      "/lustre/eaglefs/scratch/rwitteck/pvc/pvcircuit/tandem3T.py:696: RuntimeWarning: invalid value encountered in scalar divide\n",
      "  if (Pmpr - Pmpo) / Pmpr < tol:\n",
      "/lustre/eaglefs/scratch/rwitteck/pvc/pvcircuit/tandem3T.py:696: RuntimeWarning: invalid value encountered in scalar divide\n",
      "  if (Pmpr - Pmpo) / Pmpr < tol:\n",
      "/lustre/eaglefs/scratch/rwitteck/pvc/pvcircuit/tandem3T.py:696: RuntimeWarning: invalid value encountered in scalar divide\n",
      "  if (Pmpr - Pmpo) / Pmpr < tol:\n",
      "/lustre/eaglefs/scratch/rwitteck/pvc/pvcircuit/tandem3T.py:696: RuntimeWarning: invalid value encountered in scalar divide\n",
      "  if (Pmpr - Pmpo) / Pmpr < tol:\n",
      "/lustre/eaglefs/scratch/rwitteck/pvc/pvcircuit/tandem3T.py:696: RuntimeWarning: invalid value encountered in scalar divide\n",
      "  if (Pmpr - Pmpo) / Pmpr < tol:\n",
      "/lustre/eaglefs/scratch/rwitteck/pvc/pvcircuit/tandem3T.py:696: RuntimeWarning: invalid value encountered in scalar divide\n",
      "  if (Pmpr - Pmpo) / Pmpr < tol:\n",
      "/lustre/eaglefs/scratch/rwitteck/pvc/pvcircuit/tandem3T.py:696: RuntimeWarning: invalid value encountered in scalar divide\n",
      "  if (Pmpr - Pmpo) / Pmpr < tol:\n",
      "/lustre/eaglefs/scratch/rwitteck/pvc/pvcircuit/junction.py:373: RuntimeWarning: invalid value encountered in power\n",
      "  return (self.Jdb * self.J0scale) ** (1.0 / self.n) * self.J0ratio / self.J0scale\n",
      "/lustre/eaglefs/scratch/rwitteck/pvc/pvcircuit/junction.py:373: RuntimeWarning: invalid value encountered in power\n",
      "  return (self.Jdb * self.J0scale) ** (1.0 / self.n) * self.J0ratio / self.J0scale\n",
      "/lustre/eaglefs/scratch/rwitteck/pvc/pvcircuit/junction.py:373: RuntimeWarning: invalid value encountered in power\n",
      "  return (self.Jdb * self.J0scale) ** (1.0 / self.n) * self.J0ratio / self.J0scale\n",
      "/lustre/eaglefs/scratch/rwitteck/pvc/pvcircuit/junction.py:373: RuntimeWarning: invalid value encountered in power\n",
      "  return (self.Jdb * self.J0scale) ** (1.0 / self.n) * self.J0ratio / self.J0scale\n",
      "/lustre/eaglefs/scratch/rwitteck/pvc/pvcircuit/junction.py:373: RuntimeWarning: invalid value encountered in power\n",
      "  return (self.Jdb * self.J0scale) ** (1.0 / self.n) * self.J0ratio / self.J0scale\n",
      "/lustre/eaglefs/scratch/rwitteck/pvc/pvcircuit/junction.py:373: RuntimeWarning: invalid value encountered in power\n",
      "  return (self.Jdb * self.J0scale) ** (1.0 / self.n) * self.J0ratio / self.J0scale\n",
      "/lustre/eaglefs/scratch/rwitteck/pvc/pvcircuit/junction.py:373: RuntimeWarning: invalid value encountered in power\n",
      "  return (self.Jdb * self.J0scale) ** (1.0 / self.n) * self.J0ratio / self.J0scale\n",
      "/lustre/eaglefs/scratch/rwitteck/pvc/pvcircuit/junction.py:373: RuntimeWarning: invalid value encountered in power\n",
      "  return (self.Jdb * self.J0scale) ** (1.0 / self.n) * self.J0ratio / self.J0scale\n"
     ]
    }
   ],
   "source": [
    "ey.prepare_ey()\n",
    "ey.cellEYeffMP()"
   ]
  },
  {
   "cell_type": "code",
   "execution_count": 14,
   "metadata": {},
   "outputs": [
    {
     "ename": "IndexError",
     "evalue": "index -1 is out of bounds for axis 0 with size 0",
     "output_type": "error",
     "traceback": [
      "\u001b[0;31m---------------------------------------------------------------------------\u001b[0m",
      "\u001b[0;31mIndexError\u001b[0m                                Traceback (most recent call last)",
      "Cell \u001b[0;32mIn[14], line 1\u001b[0m\n\u001b[0;32m----> 1\u001b[0m ey\u001b[39m.\u001b[39mbin_data(nr_of_ape_bins \u001b[39m=\u001b[39m \u001b[39m20\u001b[39m, nr_of_temperature_bins \u001b[39m=\u001b[39m \u001b[39m5\u001b[39m)\n\u001b[1;32m      2\u001b[0m ey\u001b[39m.\u001b[39mrun_ey_binning()\n",
      "File \u001b[0;32m/lustre/eaglefs/scratch/rwitteck/pvc/pvcircuit/EY2.py:1248\u001b[0m, in \u001b[0;36mEnergyYield.bin_data\u001b[0;34m(self, nr_of_ape_bins, nr_of_temperature_bins, plot_binning, plot_spectra, export)\u001b[0m\n\u001b[1;32m   1245\u001b[0m ape_bin_edges[\u001b[39m0\u001b[39m] \u001b[39m=\u001b[39m ape_dataframe\u001b[39m.\u001b[39mindex\u001b[39m.\u001b[39mmin() \u001b[39m*\u001b[39m \u001b[39m0.99\u001b[39m\n\u001b[1;32m   1246\u001b[0m \u001b[39mfor\u001b[39;00m ape_bin \u001b[39min\u001b[39;00m \u001b[39mrange\u001b[39m(\u001b[39m1\u001b[39m, nr_of_ape_bins \u001b[39m+\u001b[39m \u001b[39m1\u001b[39m):\n\u001b[1;32m   1247\u001b[0m     max_loop_ape \u001b[39m=\u001b[39m (\n\u001b[0;32m-> 1248\u001b[0m         ape_dataframe_apesorted[\u001b[39m\"\u001b[39m\u001b[39mpowerCumSum\u001b[39m\u001b[39m\"\u001b[39m][ape_dataframe_apesorted[\u001b[39m\"\u001b[39m\u001b[39mpowerCumSum\u001b[39m\u001b[39m\"\u001b[39m] \u001b[39m<\u001b[39m\u001b[39m=\u001b[39m ape_bin \u001b[39m*\u001b[39m bin_power]\n\u001b[1;32m   1249\u001b[0m         \u001b[39m.\u001b[39mdropna()\n\u001b[1;32m   1250\u001b[0m         \u001b[39m.\u001b[39mindex[\u001b[39m-\u001b[39m\u001b[39m1\u001b[39m]\n\u001b[1;32m   1251\u001b[0m     )\n\u001b[1;32m   1252\u001b[0m     ape_bin_edges[ape_bin] \u001b[39m=\u001b[39m max_loop_ape\n\u001b[1;32m   1253\u001b[0m     ape_bin_mids[ape_bin \u001b[39m-\u001b[39m \u001b[39m1\u001b[39m] \u001b[39m=\u001b[39m (ape_bin_edges[ape_bin \u001b[39m-\u001b[39m \u001b[39m1\u001b[39m] \u001b[39m+\u001b[39m ape_bin_edges[ape_bin]) \u001b[39m/\u001b[39m \u001b[39m2\u001b[39m\n",
      "File \u001b[0;32m~/coding/pvc/.cenv/lib/python3.11/site-packages/pandas/core/indexes/base.py:5320\u001b[0m, in \u001b[0;36mIndex.__getitem__\u001b[0;34m(self, key)\u001b[0m\n\u001b[1;32m   5317\u001b[0m \u001b[39mif\u001b[39;00m is_integer(key) \u001b[39mor\u001b[39;00m is_float(key):\n\u001b[1;32m   5318\u001b[0m     \u001b[39m# GH#44051 exclude bool, which would return a 2d ndarray\u001b[39;00m\n\u001b[1;32m   5319\u001b[0m     key \u001b[39m=\u001b[39m com\u001b[39m.\u001b[39mcast_scalar_indexer(key, warn_float\u001b[39m=\u001b[39m\u001b[39mTrue\u001b[39;00m)\n\u001b[0;32m-> 5320\u001b[0m     \u001b[39mreturn\u001b[39;00m getitem(key)\n\u001b[1;32m   5322\u001b[0m \u001b[39mif\u001b[39;00m \u001b[39misinstance\u001b[39m(key, \u001b[39mslice\u001b[39m):\n\u001b[1;32m   5323\u001b[0m     \u001b[39m# This case is separated from the conditional above to avoid\u001b[39;00m\n\u001b[1;32m   5324\u001b[0m     \u001b[39m# pessimization com.is_bool_indexer and ndim checks.\u001b[39;00m\n\u001b[1;32m   5325\u001b[0m     result \u001b[39m=\u001b[39m getitem(key)\n",
      "\u001b[0;31mIndexError\u001b[0m: index -1 is out of bounds for axis 0 with size 0"
     ]
    }
   ],
   "source": [
    "ey.bin_data(nr_of_ape_bins = 20, nr_of_temperature_bins = 5)\n",
    "ey.run_ey_binning()"
   ]
  },
  {
   "cell_type": "code",
   "execution_count": 9,
   "metadata": {},
   "outputs": [
    {
     "ename": "AttributeError",
     "evalue": "'EnergyYield' object has no attribute 'binning_results'",
     "output_type": "error",
     "traceback": [
      "\u001b[0;31m---------------------------------------------------------------------------\u001b[0m",
      "\u001b[0;31mAttributeError\u001b[0m                            Traceback (most recent call last)",
      "Cell \u001b[0;32mIn[9], line 1\u001b[0m\n\u001b[0;32m----> 1\u001b[0m ey\u001b[39m.\u001b[39mbinning_results\n",
      "\u001b[0;31mAttributeError\u001b[0m: 'EnergyYield' object has no attribute 'binning_results'"
     ]
    }
   ],
   "source": [
    "ey.binning_results"
   ]
  },
  {
   "cell_type": "code",
   "execution_count": 21,
   "metadata": {},
   "outputs": [
    {
     "ename": "AttributeError",
     "evalue": "'EnergyYield' object has no attribute 'power_out'",
     "output_type": "error",
     "traceback": [
      "\u001b[0;31m---------------------------------------------------------------------------\u001b[0m",
      "\u001b[0;31mAttributeError\u001b[0m                            Traceback (most recent call last)",
      "Cell \u001b[0;32mIn[21], line 2\u001b[0m\n\u001b[1;32m      1\u001b[0m fig,ax \u001b[39m=\u001b[39m plt\u001b[39m.\u001b[39msubplots()\n\u001b[0;32m----> 2\u001b[0m ax\u001b[39m.\u001b[39mplot(ey\u001b[39m.\u001b[39mirradiance,ey\u001b[39m.\u001b[39mpower_out\u001b[39m.\u001b[39mdiv(ey\u001b[39m.\u001b[39mirradiance\u001b[39m.\u001b[39mvalues,axis\u001b[39m=\u001b[39m\u001b[39m0\u001b[39m)\u001b[39m*\u001b[39m\u001b[39m1e6\u001b[39m,\u001b[39m\"\u001b[39m\u001b[39m.\u001b[39m\u001b[39m\"\u001b[39m)\n\u001b[1;32m      4\u001b[0m \u001b[39m# ax.plot(ey.binning_results[\"BinPowerIn\"],ey.binning_results[\"BinPower2T\"]/ey.binning_results[\"BinPowerIn\"]*1e6,\"o\")\u001b[39;00m\n\u001b[1;32m      5\u001b[0m \u001b[39m# ax.plot(ey.binning_results[\"BinPowerIn\"],ey.binning_results[\"BinPower3T\"]/ey.binning_results[\"BinPowerIn\"]*1e6,\"o\")\u001b[39;00m\n\u001b[1;32m      6\u001b[0m \u001b[39m# ax.plot(ey.binning_results[\"BinPowerIn\"],ey.binning_results[\"BinPower4T\"]/ey.binning_results[\"BinPowerIn\"]*1e6,\"o\")\u001b[39;00m\n\u001b[1;32m      7\u001b[0m \u001b[39m# ax.plot(ey.binning_results[\"BinEnergy2T\"][0] / ey.energy_out[\"2T\"] - 1)\u001b[39;00m\n\u001b[1;32m      8\u001b[0m ax\u001b[39m.\u001b[39mlegend([\u001b[39m\"\u001b[39m\u001b[39m2T\u001b[39m\u001b[39m\"\u001b[39m,\u001b[39m\"\u001b[39m\u001b[39m3T\u001b[39m\u001b[39m\"\u001b[39m,\u001b[39m\"\u001b[39m\u001b[39m4T\u001b[39m\u001b[39m\"\u001b[39m,\u001b[39m\"\u001b[39m\u001b[39m2Tbin\u001b[39m\u001b[39m\"\u001b[39m,\u001b[39m\"\u001b[39m\u001b[39m3Tbin\u001b[39m\u001b[39m\"\u001b[39m,\u001b[39m\"\u001b[39m\u001b[39m4Tbin\u001b[39m\u001b[39m\"\u001b[39m])\n",
      "\u001b[0;31mAttributeError\u001b[0m: 'EnergyYield' object has no attribute 'power_out'"
     ]
    },
    {
     "data": {
      "image/png": "[encoded data removed]",
      "text/plain": [
       "<Figure size 640x480 with 1 Axes>"
      ]
     },
     "metadata": {},
     "output_type": "display_data"
    }
   ],
   "source": [
    "fig,ax = plt.subplots()\n",
    "ax.plot(ey.irradiance,ey.power_out.div(ey.irradiance.values,axis=0)*1e6,\".\")\n",
    "\n",
    "# ax.plot(ey.binning_results[\"BinPowerIn\"],ey.binning_results[\"BinPower2T\"]/ey.binning_results[\"BinPowerIn\"]*1e6,\"o\")\n",
    "# ax.plot(ey.binning_results[\"BinPowerIn\"],ey.binning_results[\"BinPower3T\"]/ey.binning_results[\"BinPowerIn\"]*1e6,\"o\")\n",
    "# ax.plot(ey.binning_results[\"BinPowerIn\"],ey.binning_results[\"BinPower4T\"]/ey.binning_results[\"BinPowerIn\"]*1e6,\"o\")\n",
    "# ax.plot(ey.binning_results[\"BinEnergy2T\"][0] / ey.energy_out[\"2T\"] - 1)\n",
    "ax.legend([\"2T\",\"3T\",\"4T\",\"2Tbin\",\"3Tbin\",\"4Tbin\"])\n"
   ]
  },
  {
   "cell_type": "code",
   "execution_count": 22,
   "metadata": {},
   "outputs": [
    {
     "ename": "IndexError",
     "evalue": "index -1 is out of bounds for axis 0 with size 0",
     "output_type": "error",
     "traceback": [
      "\u001b[0;31m---------------------------------------------------------------------------\u001b[0m",
      "\u001b[0;31mIndexError\u001b[0m                                Traceback (most recent call last)",
      "Cell \u001b[0;32mIn[22], line 11\u001b[0m\n\u001b[1;32m      8\u001b[0m \u001b[39mfor\u001b[39;00m ape_bins \u001b[39min\u001b[39;00m nr_of_ape_bins:\n\u001b[1;32m      9\u001b[0m     \u001b[39mfor\u001b[39;00m temp_bins \u001b[39min\u001b[39;00m nr_of_temperature_bins:\n\u001b[1;32m     10\u001b[0m         \u001b[39m# run simulations\u001b[39;00m\n\u001b[0;32m---> 11\u001b[0m         ey\u001b[39m.\u001b[39mbin_data(nr_of_ape_bins \u001b[39m=\u001b[39m ape_bins, nr_of_temperature_bins \u001b[39m=\u001b[39m temp_bins)\n\u001b[1;32m     12\u001b[0m         ey\u001b[39m.\u001b[39mrun_ey_binning()\n\u001b[1;32m     14\u001b[0m         \u001b[39m#collect results\u001b[39;00m\n",
      "File \u001b[0;32m/lustre/eaglefs/scratch/rwitteck/pvc/pvcircuit/EY2.py:1249\u001b[0m, in \u001b[0;36mEnergyYield.bin_data\u001b[0;34m(self, nr_of_ape_bins, nr_of_temperature_bins, plot_binning, plot_spectra, export)\u001b[0m\n\u001b[1;32m   1246\u001b[0m ape_bin_edges[\u001b[39m0\u001b[39m] \u001b[39m=\u001b[39m ape_dataframe\u001b[39m.\u001b[39mindex\u001b[39m.\u001b[39mmin() \u001b[39m*\u001b[39m \u001b[39m0.99\u001b[39m\n\u001b[1;32m   1247\u001b[0m \u001b[39mfor\u001b[39;00m ape_bin \u001b[39min\u001b[39;00m \u001b[39mrange\u001b[39m(\u001b[39m1\u001b[39m, nr_of_ape_bins \u001b[39m+\u001b[39m \u001b[39m1\u001b[39m):\n\u001b[1;32m   1248\u001b[0m     max_loop_ape \u001b[39m=\u001b[39m (\n\u001b[0;32m-> 1249\u001b[0m         ape_dataframe_apesorted[\u001b[39m\"\u001b[39m\u001b[39mpowerCumSum\u001b[39m\u001b[39m\"\u001b[39m][ape_dataframe_apesorted[\u001b[39m\"\u001b[39m\u001b[39mpowerCumSum\u001b[39m\u001b[39m\"\u001b[39m] \u001b[39m<\u001b[39m\u001b[39m=\u001b[39m ape_bin \u001b[39m*\u001b[39m bin_power]\n\u001b[1;32m   1250\u001b[0m         \u001b[39m.\u001b[39mdropna()\n\u001b[1;32m   1251\u001b[0m         \u001b[39m.\u001b[39mindex[\u001b[39m-\u001b[39m\u001b[39m1\u001b[39m]\n\u001b[1;32m   1252\u001b[0m     )\n\u001b[1;32m   1253\u001b[0m     ape_bin_edges[ape_bin] \u001b[39m=\u001b[39m max_loop_ape\n\u001b[1;32m   1254\u001b[0m     ape_bin_mids[ape_bin \u001b[39m-\u001b[39m \u001b[39m1\u001b[39m] \u001b[39m=\u001b[39m (ape_bin_edges[ape_bin \u001b[39m-\u001b[39m \u001b[39m1\u001b[39m] \u001b[39m+\u001b[39m ape_bin_edges[ape_bin]) \u001b[39m/\u001b[39m \u001b[39m2\u001b[39m\n",
      "File \u001b[0;32m~/coding/pvc/.cenv/lib/python3.11/site-packages/pandas/core/indexes/base.py:5320\u001b[0m, in \u001b[0;36mIndex.__getitem__\u001b[0;34m(self, key)\u001b[0m\n\u001b[1;32m   5317\u001b[0m \u001b[39mif\u001b[39;00m is_integer(key) \u001b[39mor\u001b[39;00m is_float(key):\n\u001b[1;32m   5318\u001b[0m     \u001b[39m# GH#44051 exclude bool, which would return a 2d ndarray\u001b[39;00m\n\u001b[1;32m   5319\u001b[0m     key \u001b[39m=\u001b[39m com\u001b[39m.\u001b[39mcast_scalar_indexer(key, warn_float\u001b[39m=\u001b[39m\u001b[39mTrue\u001b[39;00m)\n\u001b[0;32m-> 5320\u001b[0m     \u001b[39mreturn\u001b[39;00m getitem(key)\n\u001b[1;32m   5322\u001b[0m \u001b[39mif\u001b[39;00m \u001b[39misinstance\u001b[39m(key, \u001b[39mslice\u001b[39m):\n\u001b[1;32m   5323\u001b[0m     \u001b[39m# This case is separated from the conditional above to avoid\u001b[39;00m\n\u001b[1;32m   5324\u001b[0m     \u001b[39m# pessimization com.is_bool_indexer and ndim checks.\u001b[39;00m\n\u001b[1;32m   5325\u001b[0m     result \u001b[39m=\u001b[39m getitem(key)\n",
      "\u001b[0;31mIndexError\u001b[0m: index -1 is out of bounds for axis 0 with size 0"
     ]
    }
   ],
   "source": [
    "nr_of_ape_bins = [2,3,5,7,11,19,53,87,113,199,500,2000]\n",
    "nr_of_temperature_bins = [1,2,3,4,5,20]\n",
    "\n",
    "eta_binning = pd.DataFrame(np.zeros([len(nr_of_ape_bins) * len(nr_of_temperature_bins), 5]), columns=[\"ape_bins\", \"temp_bins\", \"eta2T\",\"eta3T\",\"eta4T\"])\n",
    "\n",
    "i = 0\n",
    "eta_binning = pd.DataFrame(np.zeros([len(nr_of_ape_bins) * len(nr_of_temperature_bins), 5]), columns=[\"ape_bins\", \"temp_bins\", \"eta2T\",\"eta3T\",\"eta4T\"])\n",
    "for ape_bins in nr_of_ape_bins:\n",
    "    for temp_bins in nr_of_temperature_bins:\n",
    "        # run simulations\n",
    "        ey.bin_data(nr_of_ape_bins = ape_bins, nr_of_temperature_bins = temp_bins)\n",
    "        ey.run_ey_binning()\n",
    "        \n",
    "        #collect results\n",
    "        eta_binning.loc[i,\"ape_bins\"] = ape_bins\n",
    "        eta_binning.loc[i,\"temp_bins\"] = temp_bins\n",
    "        eta_binning.loc[i,\"eta2T\"] = ey.binning_results[\"BinEnergy2T\"][0] / ey.energy_out[\"2T\"] - 1\n",
    "        eta_binning.loc[i,\"eta3T\"] = ey.binning_results[\"BinEnergy3T\"][0] / ey.energy_out[\"3T\"] - 1\n",
    "        eta_binning.loc[i,\"eta4T\"] = ey.binning_results[\"BinEnergy4T\"][0] / ey.energy_out[\"4T\"] - 1\n",
    "        i+=1\n",
    "\n",
    "        clear_output(wait=True)\n"
   ]
  },
  {
   "cell_type": "code",
   "execution_count": 10,
   "metadata": {},
   "outputs": [
    {
     "ename": "NameError",
     "evalue": "name 'eta_binning' is not defined",
     "output_type": "error",
     "traceback": [
      "\u001b[0;31m---------------------------------------------------------------------------\u001b[0m",
      "\u001b[0;31mNameError\u001b[0m                                 Traceback (most recent call last)",
      "Cell \u001b[0;32mIn[10], line 3\u001b[0m\n\u001b[1;32m      1\u001b[0m fig,ax \u001b[39m=\u001b[39m plt\u001b[39m.\u001b[39msubplots()\n\u001b[0;32m----> 3\u001b[0m groups \u001b[39m=\u001b[39m eta_binning\u001b[39m.\u001b[39mgroupby(\u001b[39m\"\u001b[39m\u001b[39mtemp_bins\u001b[39m\u001b[39m\"\u001b[39m)\n\u001b[1;32m      5\u001b[0m \u001b[39mfor\u001b[39;00m gname,group \u001b[39min\u001b[39;00m groups:\n\u001b[1;32m      6\u001b[0m     \u001b[39m# ax.plot(group[\"ape_bins\"],group[\"eta2T\"], \"*\", label = \"$N_{{\\mathrm{T}}}$=\"+f\"{gname:g}\")\u001b[39;00m\n\u001b[1;32m      7\u001b[0m     ax\u001b[39m.\u001b[39mplot(group[\u001b[39m\"\u001b[39m\u001b[39mape_bins\u001b[39m\u001b[39m\"\u001b[39m],group[\u001b[39m\"\u001b[39m\u001b[39meta4T\u001b[39m\u001b[39m\"\u001b[39m] \u001b[39m*\u001b[39m \u001b[39m100\u001b[39m, \u001b[39m\"\u001b[39m\u001b[39m.\u001b[39m\u001b[39m\"\u001b[39m, label \u001b[39m=\u001b[39m \u001b[39m\"\u001b[39m\u001b[39m$N_\u001b[39m\u001b[39m{{\u001b[39m\u001b[39m\\\u001b[39m\u001b[39mmathrm\u001b[39m\u001b[39m{T}\u001b[39;00m\u001b[39m}}$=\u001b[39m\u001b[39m\"\u001b[39m\u001b[39m+\u001b[39m\u001b[39mf\u001b[39m\u001b[39m\"\u001b[39m\u001b[39m{\u001b[39;00mgname\u001b[39m:\u001b[39;00m\u001b[39mg\u001b[39m\u001b[39m}\u001b[39;00m\u001b[39m\"\u001b[39m)\n",
      "\u001b[0;31mNameError\u001b[0m: name 'eta_binning' is not defined"
     ]
    },
    {
     "data": {
      "image/png": "[encoded data removed]",
      "text/plain": [
       "<Figure size 640x480 with 1 Axes>"
      ]
     },
     "metadata": {},
     "output_type": "display_data"
    }
   ],
   "source": [
    "fig,ax = plt.subplots()\n",
    "\n",
    "groups = eta_binning.groupby(\"temp_bins\")\n",
    "\n",
    "for gname,group in groups:\n",
    "    # ax.plot(group[\"ape_bins\"],group[\"eta2T\"], \"*\", label = \"$N_{{\\mathrm{T}}}$=\"+f\"{gname:g}\")\n",
    "    ax.plot(group[\"ape_bins\"],group[\"eta4T\"] * 100, \".\", label = \"$N_{{\\mathrm{T}}}$=\"+f\"{gname:g}\")\n",
    "    # ax.plot(nr_of_ape_bins,eta4T, \"*\", color=(1, 0, 0, 0.33), mfc=(1, 0, 0, 0.66), mec=(1, 0, 0))\n",
    "\n",
    "# ax[1].set_title(\"Global irradiance\")\n",
    "ax.set_xlabel(\"Nr of APE bins\")\n",
    "ax.set_ylabel(\"Deviation bin vs full year [%]\")\n",
    "ax.set_box_aspect(1)\n",
    "ax.set_ylim(bottom=0)\n",
    "ax.legend(title=\"Temp bins\", loc=9)"
   ]
  },
  {
   "cell_type": "code",
   "execution_count": null,
   "metadata": {},
   "outputs": [],
   "source": []
  }
 ],
 "metadata": {
  "kernelspec": {
   "display_name": "Python 3 (ipykernel)",
   "language": "python",
   "name": "python3"
  },
  "language_info": {
   "codemirror_mode": {
    "name": "ipython",
    "version": 3
   },
   "file_extension": ".py",
   "mimetype": "text/x-python",
   "name": "python",
   "nbconvert_exporter": "python",
   "pygments_lexer": "ipython3",
   "version": "3.11.3"
  },
  "orig_nbformat": 4
 },
 "nbformat": 4,
 "nbformat_minor": 2
}
