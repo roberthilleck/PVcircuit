{
 "cells": [
  {
   "cell_type": "code",
   "execution_count": 1,
   "id": "a7915722-ba35-4f64-884d-156ff5f74319",
   "metadata": {},
   "outputs": [],
   "source": [
    "%load_ext autoreload\n",
    "%autoreload 2\n",
    "# %matplotlib widget\n"
   ]
  },
  {
   "cell_type": "markdown",
   "id": "975dd143-da1c-4814-ac9b-d3eab8ec98f3",
   "metadata": {},
   "source": [
    "### EY analysis for the location in Golden\n",
    "\n"
   ]
  },
  {
   "cell_type": "code",
   "execution_count": 2,
   "id": "b2c27ce3-bd05-4e25-8122-652c7c21dadb",
   "metadata": {},
   "outputs": [
    {
     "name": "stderr",
     "output_type": "stream",
     "text": [
      "/Users/rwitteck/coding/pvcircuit_fork/pvcircuit/EY.py:16: TqdmExperimentalWarning: Using `tqdm.autonotebook.tqdm` in notebook mode. Use `tqdm.tqdm` instead to force console mode (e.g. in jupyter console)\n",
      "  from tqdm.autonotebook import tqdm, trange\n"
     ]
    }
   ],
   "source": [
    "import pandas as pd\n",
    "import numpy as np\n",
    "import matplotlib.pyplot as plt\n",
    "import matplotlib.dates as mdates\n",
    "import pvcircuit as pvc\n",
    "from pvcircuit.PlotWithControls import PlotsWithControls\n",
    "import ipywidgets as widgets\n",
    "from scipy import constants\n",
    "from scipy.optimize import curve_fit, fsolve\n",
    "from scipy.special import erfc\n",
    "\n",
    "from IPython import display\n",
    "\n",
    "from pvcircuit.physics_helpers import fit_sandia_simple\n",
    "from pvlib.pvsystem import singlediode\n",
    "\n",
    "import os\n",
    "import sys\n",
    "\n",
    "from glob import glob\n",
    "from datetime import datetime\n",
    "import time\n",
    "from tqdm.notebook import trange\n",
    "import timeit\n",
    "\n",
    "# set path for NREL meteorological package and import\n",
    "sys.path.append(\"../../NREL_Meteorological\")\n",
    "from environmental import Spectra, Meteorological, sync\n",
    "import warnings\n",
    "from scipy.optimize import OptimizeWarning"
   ]
  },
  {
   "cell_type": "markdown",
   "id": "37ae7ee0",
   "metadata": {},
   "source": [
    "Helpers\n"
   ]
  },
  {
   "cell_type": "code",
   "execution_count": 3,
   "id": "12ab7e42",
   "metadata": {},
   "outputs": [],
   "source": [
    "warnings.simplefilter(\"ignore\", OptimizeWarning)\n"
   ]
  },
  {
   "cell_type": "code",
   "execution_count": 4,
   "id": "9fcbcf34",
   "metadata": {},
   "outputs": [],
   "source": [
    "def wavelength_to_photonenergy(wavelength):\n",
    "    return constants.h * constants.c / (wavelength * 1e-9) / constants.e\n",
    "\n",
    "\n",
    "def photonenergy_to_wavelength(photonenergy):\n",
    "    return constants.h * constants.c / (photonenergy * 1e-9) / constants.e\n",
    "\n",
    "\n",
    "def _normalize(eqe: pd.DataFrame) -> pd.DataFrame:\n",
    "    eqe_min = np.nanmin(eqe)\n",
    "    eqe_max = np.nanmax(eqe)\n",
    "    return (eqe - eqe_min) / (eqe_max - eqe_min)\n",
    "\n",
    "\n",
    "def _eq_solve_Eg(Eg, *data):\n",
    "    x, y = data\n",
    "    return np.trapz(x * y, x) / np.trapz(y, x) - Eg\n",
    "\n",
    "\n",
    "def _gaussian(x, a, x0, sigma):\n",
    "    return 1 * np.exp(-((x - x0) ** 2) / (2 * sigma**2))\n",
    "\n",
    "\n",
    "def calc_Eg_Rau(eqe, fit_gaussian=True):\n",
    "    # using [1] U. Rau, B. Blank, T. C. M. Müller, and T. Kirchartz,\n",
    "    # “Efficiency Potential of Photovoltaic Materials and Devices Unveiled by Detailed-Balance Analysis,”\n",
    "    # Phys. Rev. Applied, vol. 7, no. 4, p. 044016, Apr. 2017, doi: 10.1103/PhysRevApplied.7.044016.\n",
    "    # extended by gaussian fit\n",
    "\n",
    "    # Define the Gaussian function\n",
    "    wavelength = eqe.index.values\n",
    "    y = eqe.values\n",
    "    x = wavelength_to_photonenergy(wavelength)\n",
    "\n",
    "    # convert wavelength to photon energy\n",
    "    y_grad = np.abs(np.gradient(y))\n",
    "    # y_grad = np.abs(np.diff(y.values, prepend=np.nan))\n",
    "    # y_grad = y.diff().abs().values\n",
    "\n",
    "    # filter tail to avoid eqe dips at end/beginning of measurement\n",
    "    y_grad = y_grad[(x < (x.max() + x.min())/2)]\n",
    "    y = y[(x < (x.max() + x.min())/2)]\n",
    "    x = x[(x < (x.max() + x.min())/2)]\n",
    "    # normalize data\n",
    "    y_grad = _normalize(y_grad)\n",
    "    # get the index of the maximum\n",
    "    y_diff_max_idx = np.nanargmax(y_grad)\n",
    "    # get the max coordinates\n",
    "    x_diff_max = x[y_diff_max_idx]\n",
    "    y_diff_max = y_grad[y_diff_max_idx]\n",
    "\n",
    "    # define lower threshold\n",
    "    p_ab = np.exp(-2) * y_diff_max\n",
    "    thres = 0.5\n",
    "    # p_ab = thres * y_diff_max\n",
    "    # find the index of the low-energy side where P(a) is max(P(Eg)/2)\n",
    "    a_cond = np.where((y_grad < p_ab) & (x < x_diff_max))[0]\n",
    "    if len(a_cond > 0):\n",
    "        a_idx = np.nanmin(a_cond)\n",
    "    else:\n",
    "        a_idx = len(x) - 1\n",
    "    a = x[a_idx]\n",
    "    p_a = y_grad[a_idx]\n",
    "    # find the index of the high-energy side where P(b) is max(P(Eg)/2)\n",
    "    b_idx = np.nanmax(np.where((y_grad < p_ab) & (x > x_diff_max))[0])\n",
    "    b = x[b_idx]\n",
    "    p_b = y_grad[b_idx]\n",
    "\n",
    "    x_target = x[a_idx : b_idx - 1 : -1]\n",
    "    y_target = y_grad[a_idx : b_idx - 1 : -1]\n",
    "\n",
    "    if fit_gaussian:\n",
    "\n",
    "        # initial guesses from weighted arithmetic mean and weighted sample sigma\n",
    "        mean = sum(x_target * y_target) / sum(y_target)\n",
    "        sigma = np.sqrt(sum(y_target * (x_target - mean) ** 2) / sum(y_target))\n",
    "\n",
    "        fit_res = curve_fit(\n",
    "            _gaussian,\n",
    "            x_target,\n",
    "            y_target,\n",
    "            p0=[max(y_target), mean, sigma],\n",
    "        )\n",
    "        x_fit = np.linspace(x[b_idx], x[a_idx], 100)\n",
    "        y_fit = _gaussian(x_fit, *fit_res[0])\n",
    "\n",
    "        # fig,ax = plt.subplots(1)\n",
    "        # ax.plot(x, y_grad,'.')\n",
    "        # ax.plot(x_fit, y_fit)\n",
    "        # ax.plot(x_target, y_target, \".r\")\n",
    "        # ax.plot(x_diff_max, y_diff_max, \"r*\")\n",
    "        # ax.plot(a, p_a, \"g*\")\n",
    "        # ax.plot(b, p_b, \"b*\")\n",
    "        # plt.plot(x_fit - fit_res[0][1], y_fit)\n",
    "        # plt.plot(x_fit, y_fit)\n",
    "        # ax.set_xlim(1.1, 1.8)\n",
    "        # ax.set_ylabel(r\"$\\frac{{\\mathrm{d}}EQE}{{\\mathrm{d}}E_{\\nu}}$\")\n",
    "        # ax.set_xlabel(r\"Photon energy $E_{\\nu}$ [eV]\")\n",
    "\n",
    "        x_fit = x_fit[y_fit >= thres * y_fit.max()]\n",
    "        y_fit = y_fit[y_fit >= thres * y_fit.max()]\n",
    "        sigma = fit_res[0][2]\n",
    "\n",
    "    else:\n",
    "        fit_res = [None]\n",
    "        x_fit = x_target\n",
    "        y_fit = y_target\n",
    "        sigma = None\n",
    "\n",
    "    res = fsolve(_eq_solve_Eg, 1.0, args=(x_fit, y_fit))\n",
    "    bandgap = res[0]\n",
    "    return bandgap, sigma\n",
    "\n",
    "\n",
    "def si_eg_shift(temperature, bandgap_25):\n",
    "    p = [-6.47214956e-04, 1.01632828e00]\n",
    "    return (p[0] * temperature + p[1]) * bandgap_25\n",
    "\n",
    "\n",
    "def si_sigma_shift(temperature, sigma_25):\n",
    "    p = [0.00959188, 0.76558903]\n",
    "    return (p[0] * temperature + p[1])*sigma_25\n",
    "\n",
    "\n",
    "def psc_eg_shift(temperature, bandgap_25):\n",
    "    t_split = 32\n",
    "    p = [2.59551019e-04, 9.91138163e-01]\n",
    "    res = np.zeros_like(temperature)\n",
    "\n",
    "    t_filter = temperature > t_split\n",
    "    res[t_filter] = p[0] * temperature[t_filter] + p[1]\n",
    "    res[~t_filter] = p[0] * t_split + p[1]\n",
    "    res = pd.Series(res, index = temperature.index)\n",
    "    return res * bandgap_25\n",
    "\n",
    "\n",
    "def psc_sigma_shift(temperature, sigma_25):\n",
    "    p = [0.00358866, 0.90074156]\n",
    "    return (p[0] * temperature + p[1])*sigma_25\n",
    "\n",
    "def intergrate_eqe(eqe):\n",
    "    path_to_am15_spectra = os.path.join(os.path.dirname(os.getcwd()), \"data\",\"ASTMG173.csv\")  # Data files here\n",
    "    # spectra = pd.read_csv(path_to_am15_spectra, header=[*range(0,3)])\n",
    "    spectra_full = pd.read_csv(path_to_am15_spectra, header=[2])\n",
    "    spectra_full.set_index(spectra_full.columns[0], inplace=True)\n",
    "\n",
    "    spectra = spectra_full.reindex(eqe.index)\n",
    "    if spectra.isnull().any(axis=1).any():\n",
    "        spectra = spectra.reindex(index=si_eqe.index).interpolate(method=\"index\")\n",
    "\n",
    "    # jsc = (\n",
    "    #     eqe.apply(lambda x: np.trapz(y=x * spectra[\"global\"] / qe._wavelength_to_photonenergy(eqe.index), x=eqe.index)) / 10\n",
    "    # )\n",
    "    jsc = np.trapz(y=eqe.values * spectra[\"global\"] / wavelength_to_photonenergy(eqe.index), x=eqe.index) / 10\n",
    "    return jsc\n",
    "    si_fit = np.polyfit(temperature_silicon, jsc[1:], 1)\n",
    "\n",
    "    temps = np.linspace(min(temperature_silicon), max(temperature_silicon), 50)\n",
    "    jsc_fit = np.polyval(si_fit, temps)\n",
    "\n",
    "    fig, ax = plt.subplots(1)\n",
    "    ax.plot(temperature_silicon, jsc[1:], \"*\", temps, jsc_fit)\n",
    "    \n",
    "def shift_eqe(eqe_ref, bandgap_25, sigma_25, bandgaps, sigmas, spectra):\n",
    "\n",
    "    eqe = eqe_ref.values\n",
    "    lam = eqe_ref.index.values\n",
    "    Ey = constants.h * constants.c / (lam * 1e-9) / constants.e  # [eV]\n",
    "    \n",
    "    abs = 1 / 2 * erfc((bandgap_25 - Ey) / (sigma_25 * np.sqrt(2)))\n",
    "\n",
    "    lam_eqe_saturation_idx = np.argmax(eqe * lam)\n",
    "    eqe_saturation = eqe[lam_eqe_saturation_idx]\n",
    "    lam_eqe_saturation = lam[lam_eqe_saturation_idx]\n",
    "\n",
    "\n",
    "    jscs = []\n",
    "    # fig,ax = plt.subplots()\n",
    "    for i, col in enumerate(bandgaps):\n",
    "        # print(qe_data.temperature)\n",
    "        spec = spectra.iloc[i][lam]\n",
    "        bandgap = bandgaps[i]\n",
    "        sigma = sigmas[i]\n",
    "        abs = 1 / 2 * erfc((bandgap - Ey) / (sigma * np.sqrt(2))) * eqe_saturation\n",
    "        eqe_filter = lam > photonenergy_to_wavelength(bandgap + 2*sigma)\n",
    "        eqe_new = np.concatenate([eqe[~eqe_filter],abs[eqe_filter]])\n",
    "        # ax.plot(eqe_new)\n",
    "        jscs.append(np.trapz(y = eqe_new * spec / wavelength_to_photonenergy(spec.index), x = spec.index) / 10)\n",
    "\n",
    "    return jscs\n",
    "\n"
   ]
  },
  {
   "cell_type": "markdown",
   "id": "ed8412f8",
   "metadata": {},
   "source": [
    "Some notebook settings"
   ]
  },
  {
   "cell_type": "code",
   "execution_count": 5,
   "id": "d4ee82bd",
   "metadata": {},
   "outputs": [],
   "source": [
    "t_elaps = None\n",
    "t_elapsMP = None\n",
    "\n",
    "squeeze_day_to_one_day = True # squeezes the meteo data into one day to allow plot comparison in one day\n",
    "results = None"
   ]
  },
  {
   "cell_type": "markdown",
   "id": "9fa8b3d8",
   "metadata": {},
   "source": [
    "Load the meteorological data"
   ]
  },
  {
   "cell_type": "code",
   "execution_count": 6,
   "id": "bfa08c51",
   "metadata": {},
   "outputs": [],
   "source": [
    "def get_meteo(date_start, date_end, resampler):\n",
    "    \n",
    "    # date_start = datetime(2022, 6, 15, 0, 0, 0)  # sunny day\n",
    "    # date_end = date_start + pd.Timedelta(days=1) - pd.Timedelta(seconds=1)\n",
    "    meteo_data = Meteorological.get_midc_environmental(date_start, date_end)\n",
    "    spectra_class = Spectra.get_srrl_wiser_global_track(date_start, date_end)\n",
    "\n",
    "    # resample\n",
    "    spectra_resampled = spectra_class.spectra.resample(resampler).median()\n",
    "    meteo_resampled = meteo_data.data.resample(resampler).median()\n",
    "\n",
    "    spectra_sync, meteo_sync = sync(spectra_resampled, meteo_resampled)\n",
    "\n",
    "    # remove nan\n",
    "    nan_filter = spectra_sync.isna().any(axis=1) | meteo_sync.isna().any(axis=1)\n",
    "    spectra_sync = spectra_sync[~nan_filter]\n",
    "    meteo_sync = meteo_sync[~nan_filter]\n",
    "\n",
    "    # if squeeze_days_to_one_day:\n",
    "    #     meteo_data.data.index = meteo_data.data.index.map(lambda dt: dt.replace(day=1))\n",
    "    \n",
    "    # import TMY data of meteo_location\n",
    "    meteo_location = pvc.Meteo(\n",
    "        wavelength=spectra_sync.columns,\n",
    "        spectra=spectra_sync,\n",
    "        ambient_temperature=meteo_sync[\"Deck Dry Bulb Temp [deg C]\"],\n",
    "        wind=meteo_sync[\"Avg Wind Speed @ 19ft [m/s]\"],\n",
    "        daytime=spectra_sync.index,\n",
    "    )\n",
    "    return meteo_location\n"
   ]
  },
  {
   "cell_type": "markdown",
   "id": "8a38a54e",
   "metadata": {},
   "source": [
    "Hard code scenarios for cell data"
   ]
  },
  {
   "cell_type": "code",
   "execution_count": 7,
   "id": "95cc3875",
   "metadata": {},
   "outputs": [],
   "source": [
    "def get_jv_params(fp_psk_jv, fp_si_jv):\n",
    "    path = os.path.join(os.path.dirname(os.getcwd()), \"data\")  # Data files here\n",
    "\n",
    "    psk_data = pd.read_csv(os.path.join(path, fp_psk_jv))\n",
    "    A = 0.112  # [cm^2]\n",
    "    TC = 25  # [degC]\n",
    "\n",
    "    # Measured terminal voltage.\n",
    "    voltage = psk_data[\"v\"].to_numpy(np.double)  # [V]\n",
    "    # Measured terminal current.\n",
    "    current = psk_data[\"i\"].to_numpy(np.double) / 1000 * A  # [A]\n",
    "\n",
    "    sort_id = np.argsort(voltage)\n",
    "\n",
    "    voltage = voltage[sort_id]\n",
    "    current = current[sort_id]\n",
    "\n",
    "    voc_guess_idx = np.where(current >= 0)[0][-1]\n",
    "    voc_guess_idx\n",
    "    voltage = voltage[: voc_guess_idx + 2]\n",
    "    current = current[: voc_guess_idx + 2]\n",
    "\n",
    "    # fit iv\n",
    "    # (psc_isc, psc_io, psc_rs, psc_rsh, psc_nNsVth) = psc_params\n",
    "    psc_params = fit_sandia_simple(  # [A]  # [A]  # [Ohm]  # [Ohm]\n",
    "        voltage, current\n",
    "    )\n",
    "    ilim = 0.6\n",
    "    while psc_params[2] < 0:\n",
    "        ilim -=0.01        \n",
    "        # fit iv\n",
    "        psc_params = fit_sandia_simple(  # [A]  # [A]  # [Ohm]  # [Ohm]\n",
    "            voltage, current, ilim=ilim\n",
    "        )\n",
    "        \n",
    "        \n",
    "    si_data = pd.read_csv(os.path.join(path, fp_si_jv))\n",
    "    # Measured terminal voltage.\n",
    "    voltage = si_data[\"v\"].to_numpy(np.double)  # [V]\n",
    "    # Measured terminal current.\n",
    "    current = si_data[\"i\"].to_numpy(np.double) / 1000 * A  # [A]\n",
    "\n",
    "    sort_id = np.argsort(voltage)\n",
    "\n",
    "    voltage = voltage[sort_id]\n",
    "    current = current[sort_id]\n",
    "\n",
    "    voc_guess_idx = np.where(current >= 0)[0][-1]\n",
    "    voc_guess_idx\n",
    "    voltage = voltage[: voc_guess_idx + 2]\n",
    "    current = current[: voc_guess_idx + 2]\n",
    "\n",
    "    # fit iv\n",
    "    si_params = fit_sandia_simple(  # [A]  # [A]  # [Ohm]  # [Ohm]\n",
    "        voltage, current\n",
    "    )\n",
    "    ilim = 0.6\n",
    "    while si_params[2] < 0:\n",
    "        ilim -=0.01        \n",
    "        # fit iv\n",
    "        si_params = fit_sandia_simple(  # [A]  # [A]  # [Ohm]  # [Ohm]\n",
    "            voltage, current, ilim=ilim\n",
    "        )\n",
    "        \n",
    "    return psc_params, si_params"
   ]
  },
  {
   "cell_type": "code",
   "execution_count": 8,
   "id": "280ea364",
   "metadata": {},
   "outputs": [],
   "source": [
    "def get_tandem_eqe(fp_psk_eqe, fp_psk_trans, fp_si_eqe, psc_params, si_params):\n",
    "    \n",
    "    # get the Silicon paramters\n",
    "    (psc_isc, psc_io, psc_rs, psc_rsh, psc_nNsVth) = psc_params\n",
    "    (si_isc,si_io, si_rs, si_rsh, si_nNsVth) = si_params\n",
    "    \n",
    "    jo_scale = 1000\n",
    "    A = 0.112  # [cm^2]\n",
    "    TC = 25  # [degC]\n",
    "    \n",
    "    reader_settings = {\"index_col\": 0, \"usecols\": [0, 1]}\n",
    "    df_psk_eqe = pd.read_excel(fp_psk_eqe, **reader_settings).dropna().squeeze(\"columns\")\n",
    "    df_psk_trans = pd.read_csv(fp_psk_trans, **reader_settings).dropna().squeeze(\"columns\")\n",
    "    df_si_eqe = pd.read_excel(fp_si_eqe, **reader_settings).dropna().squeeze(\"columns\")\n",
    "\n",
    "    df_psk_trans = None\n",
    "    if df_psk_trans is None:\n",
    "        df_psk_trans = 1 - _normalize(df_psk_eqe)\n",
    "        \n",
    "    # in case values are percentages\n",
    "    if any(df_psk_eqe.values > 1):\n",
    "        df_psk_eqe = df_psk_eqe.div(100)\n",
    "    if any(df_psk_trans.values > 1):\n",
    "        df_psk_trans = df_psk_trans.div(100)\n",
    "    if any(df_si_eqe.values > 1):\n",
    "        df_si_eqe = df_si_eqe.div(100)\n",
    "\n",
    "    # # round in case wavelength has many floating points\n",
    "    df_psk_eqe.index = np.round(df_psk_eqe.index.astype(np.double), 1)\n",
    "    df_psk_trans.index = np.round(df_psk_trans.index.astype(np.double), 1)\n",
    "    df_si_eqe.index = np.round(df_si_eqe.index.astype(np.double), 1)\n",
    "\n",
    "    # integrate the EQE and compare the Jsc with the Jsc form the IV data. Assumption here is that the Jsc from IV measurement is the true value and EQE needs to be scaled\n",
    "    eqe_scaler = psc_isc / A * 1e3 / intergrate_eqe(df_psk_eqe)\n",
    "    df_psk_eqe = df_psk_eqe * eqe_scaler\n",
    "\n",
    "    eqe_scaler = si_isc / A * 1e3 / intergrate_eqe(df_si_eqe)\n",
    "    df_si_eqe = df_si_eqe * eqe_scaler\n",
    "\n",
    "    # interpolate with eqe's superseding transmission wavelengths\n",
    "    comb_lam = df_psk_eqe.index.union(df_si_eqe.index)\n",
    "    df_psk_eqe_interp = df_psk_eqe.reindex(index=comb_lam, fill_value=0.0).interpolate(method=\"index\")\n",
    "    df_psk_trans_interp = df_psk_trans.reindex(index=comb_lam).interpolate(method=\"index\")\n",
    "    df_si_eqe_interp = df_si_eqe.reindex(index=comb_lam, fill_value=0.0).interpolate(method=\"index\")\n",
    "    df_si_eqe_filtered = df_psk_trans_interp * df_si_eqe_interp\n",
    "\n",
    "    # get the bandgap to cut-off eqe of bottom cell where eqe of the top cell is weak\n",
    "    eg_psc, sigma_psc = calc_Eg_Rau(df_psk_eqe_interp)\n",
    "    lam_cut_psc = photonenergy_to_wavelength(eg_psc + 2 * sigma_psc)\n",
    "\n",
    "    df_si_eqe_filtered[df_psk_eqe_interp.index <= lam_cut_psc] = 0\n",
    "\n",
    "    # commbine Psk and filter EQE\n",
    "    df_tandem_eqe = pd.concat([df_psk_eqe_interp, df_si_eqe_filtered], axis=1)\n",
    "    df_tandem_eqe.columns = [\"Psk\", \"Si\"]\n",
    "    \n",
    "    \n",
    "    return df_tandem_eqe, df_si_eqe_interp\n"
   ]
  },
  {
   "cell_type": "code",
   "execution_count": 9,
   "id": "5c8bc8fe",
   "metadata": {},
   "outputs": [],
   "source": [
    "def match_eqe_spectra(df_tandem_eqe, spectra_sync):\n",
    "    spectra_sync = spectra_sync.reindex(df_tandem_eqe.index,axis=1)\n",
    "    spec_filter = ~spectra_sync.isna().all()\n",
    "    spectra_sync = spectra_sync.iloc[:,spec_filter.values]\n",
    "    df_tandem_eqe = df_tandem_eqe[spec_filter]\n",
    "    return df_tandem_eqe, spectra_sync"
   ]
  },
  {
   "cell_type": "code",
   "execution_count": 10,
   "id": "ba7bb912",
   "metadata": {},
   "outputs": [],
   "source": [
    "def get_tandem_device(psc_params, si_params, df_si_eqe_filtered, eg_psc, eg_si):\n",
    "\n",
    "    (psc_isc, psc_io, psc_rs, psc_rsh, psc_nNsVth) = psc_params\n",
    "    (si_isc,si_io, si_rs, si_rsh, si_nNsVth) = si_params\n",
    "\n",
    "\n",
    "    jo_scale = 1000\n",
    "    A = 0.112  # [cm^2]\n",
    "    TC = 25  # [degC]\n",
    "\n",
    "    psc_jsc = psc_isc / A  # [A/cm^2]\n",
    "    psc_jo = psc_io / A\n",
    "    psc_n = psc_nNsVth / pvc.junction.Vth(TC)\n",
    "    psc_jdb = pvc.junction.Jdb(TC=TC, Eg=eg_psc)\n",
    "    psc_joratio = jo_scale * psc_jo / (psc_jdb * jo_scale) ** (1.0 / psc_n)\n",
    "\n",
    "    psc_rser = psc_rs * A\n",
    "    psc_gsh = 1 / (psc_rsh * A)\n",
    "\n",
    "    si_jsc = si_isc / A  # [A/cm^2]\n",
    "    si_jo = si_io / A\n",
    "    si_n = si_nNsVth / pvc.junction.Vth(TC)\n",
    "    si_jdb = pvc.junction.Jdb(TC=TC, Eg=eg_si)\n",
    "    si_joratio = jo_scale * si_jo / (si_jdb * jo_scale) ** (1.0 / si_n)\n",
    "    \n",
    "    si_jsc = intergrate_eqe(df_si_eqe_filtered) / 1e3\n",
    "    \n",
    "\n",
    "    si_rser = si_rs * A\n",
    "    si_gsh = 1 / (si_rsh * A)\n",
    "\n",
    "    dev3T = pvc.Tandem3T()\n",
    "    dev3T.set(name=\"PskSidev3T\", Rz=1e-1)\n",
    "    dev3T.top.set(Eg=eg_psc, J0ratio=[psc_joratio], Jext=psc_jsc, Gsh=psc_gsh, Rser=si_rser, n=[psc_n], J0=psc_jo)\n",
    "    dev3T.bot.set(Eg=eg_si, J0ratio=[si_joratio], Jext=si_jsc, Gsh=si_gsh, Rser=si_rser, n=[si_n], J0=si_jo)\n",
    "    return dev3T"
   ]
  },
  {
   "cell_type": "code",
   "execution_count": 11,
   "id": "e15d8d23",
   "metadata": {},
   "outputs": [],
   "source": [
    "def run_single_core(model, meteo_location):\n",
    "    iref = 1  # global\n",
    "    ncells = 60\n",
    "\n",
    "    operlist = pvc.EY.VMlist(2)\n",
    "    operlist.remove(\"VM11\")\n",
    "    num = len(operlist)\n",
    "    ratio = [0] * num\n",
    "    sEY = [0] * num\n",
    "    rEY = [0] * num\n",
    "    sEYeff = [0] * num\n",
    "    rEYeff = [0] * num\n",
    "    sSTCeff = [0] * num\n",
    "    rSTCeff = [0] * num\n",
    "    sloss = [0] * num\n",
    "    rloss = [0] * num\n",
    "\n",
    "    t_start = time.perf_counter()\n",
    "    for i, oper in enumerate(operlist):\n",
    "        model.bot.set(pn=1)  # s-type\n",
    "        bot, top, ratio[i], type3T = pvc.EY.cellmodeldesc(model, oper)\n",
    "        sloss[i] = pvc.EY.VMloss(type3T, bot, top, ncells)\n",
    "        # sSTCeff[i] = meteo_location.cellSTCeff(model, oper)\n",
    "        sEY[i], sEYeff[i] = meteo_location.cellEYeff(model, oper)\n",
    "\n",
    "        if oper in [\"MPP\", \"CM\"]:\n",
    "            rEY[i], rEYeff[i] = sEY[i], sEYeff[i]\n",
    "\n",
    "        else:\n",
    "            model.bot.set(pn=-1)  # r-type\n",
    "            bot, top, ratio[i], type3T = pvc.EY.cellmodeldesc(model, oper)\n",
    "            rloss[i] = pvc.EY.VMloss(type3T, bot, top, ncells)\n",
    "            # rSTCeff[i] = meteo_location.cellSTCeff(model, oper)\n",
    "            rEY[i], rEYeff[i] = meteo_location.cellEYeff(model, oper)\n",
    "    t_elaps = time.perf_counter() - t_start\n",
    "    return sEY, rEY, sEYeff, rEYeff, sSTCeff, rSTCeff, sloss, rloss, ratio, t_elaps\n"
   ]
  },
  {
   "cell_type": "code",
   "execution_count": 12,
   "id": "80dbe6dc",
   "metadata": {},
   "outputs": [],
   "source": [
    "def run_multi_core(model, meteo_location):\n",
    "\n",
    "    iref = 1  # global\n",
    "    ncells = 60\n",
    "    model = dev3T  # pointer?\n",
    "\n",
    "    operlist = pvc.EY.VMlist(2)\n",
    "    operlist.remove(\"VM11\")\n",
    "    num = len(operlist)\n",
    "    ratio = [0] * num\n",
    "    sEYeff_MP = [0] * num\n",
    "    rEYeff_MP = [0] * num\n",
    "    sEY_MP = [0] * num\n",
    "    rEY_MP = [0] * num\n",
    "    sSTCeff = [0] * num\n",
    "    rSTCeff = [0] * num\n",
    "    sloss = [0] * num\n",
    "    rloss = [0] * num\n",
    "\n",
    "    t_start = time.perf_counter()\n",
    "    for idx, oper in enumerate(operlist):\n",
    "        # for idx in trange(len(operlist)):\n",
    "        oper = operlist[idx]\n",
    "        model.bot.set(pn=1)  # s-type\n",
    "        bot, top, ratio[idx], type3T = pvc.EY.cellmodeldesc(model, oper)\n",
    "        sSTCeff[idx] = meteo_location.cellSTCeff(model, oper)\n",
    "\n",
    "        model.bot.set(pn=-1)  # r-type\n",
    "        bot, top, ratio[idx], type3T = pvc.EY.cellmodeldesc(model, oper)\n",
    "        rSTCeff[idx] = meteo_location.cellSTCeff(model, oper)\n",
    "\n",
    "    for idx, oper in enumerate(operlist):\n",
    "        # for idx in trange(len(operlist)):\n",
    "        oper = operlist[idx]\n",
    "        model.bot.set(pn=1)  # s-type\n",
    "        bot, top, ratio[idx], type3T = pvc.EY.cellmodeldesc(model, oper)\n",
    "        sloss[idx] = pvc.EY.VMloss(type3T, bot, top, ncells)\n",
    "        sEY_MP[idx], sEYeff_MP[idx] = meteo_location.cellEYeffMP(model, oper)\n",
    "\n",
    "        if oper in [\"MPP\", \"CM\"]:\n",
    "            rEY_MP[idx], rEYeff_MP[idx] = sEY_MP[idx], sEYeff_MP[idx]\n",
    "\n",
    "        else:\n",
    "            model.bot.set(pn=-1)  # r-type\n",
    "            bot, top, ratio[idx], type3T = pvc.EY.cellmodeldesc(model, oper)\n",
    "            rloss[idx] = pvc.EY.VMloss(type3T, bot, top, ncells)\n",
    "            rEY_MP[idx], rEYeff_MP[idx] = meteo_location.cellEYeffMP(model, oper)\n",
    "    t_elapsMP = time.perf_counter() - t_start\n",
    "    return sEY_MP, rEY_MP, sEYeff_MP, rEYeff_MP, sSTCeff, rSTCeff, sloss, rloss, ratio, t_elapsMP\n"
   ]
  },
  {
   "cell_type": "code",
   "execution_count": null,
   "id": "f563ef28",
   "metadata": {},
   "outputs": [],
   "source": []
  },
  {
   "cell_type": "code",
   "execution_count": 13,
   "id": "a9c3a9ab",
   "metadata": {},
   "outputs": [],
   "source": [
    "# import EQE of Psk and Tandem\n",
    "# Transmittance data\n",
    "# Pvsk_1.53eV_Qi_3-22_tr.csv\n",
    "# Pvsk_1.60eV_Qi_3-22_tr.csv\n",
    "# Pvsk_1.63eV_Qi_3-22_tr.csv\n",
    "# Pvsk_1.70eV_Qi_3-22_tr.csv\n",
    "\n",
    "# PSC EQE data\n",
    "# Pvsk_1.25eV_QE.xlsx\n",
    "# Pvsk_1.63MA-free_QE.xlsx\n",
    "# Pvsk_1.68eV_QE.xlsx\n",
    "# Pvsk_1.70MA-free_QE.xlsx\n",
    "# Pvsk_1.75MA-free_QE.xlsx\n",
    "# Pvsk_1.80MA-free_QE.xlsx\n",
    "path = os.path.join(os.path.dirname(os.getcwd()), \"data\")  # Data files here\n",
    "\n",
    "datalist = glob(path + \"**\" + os.path.sep +\"*\")\n",
    "# print(*(f\"{i:>2} --> {os.path.basename(x)}\" for i, x in enumerate(datalist)), sep=\"\\n\")\n",
    "\n",
    "fp_psk_eqe = {\n",
    "    # 1.25 : [file for file in datalist if \"1.25\" in file and \"_QE\" in file][0],\n",
    "    # 1.63 : [file for file in datalist if \"1.63\" in file and \"_QE\" in file][0],\n",
    "    1.68 : [file for file in datalist if \"1.68\" in file and \"_QE\" in file][0],\n",
    "    # 1.70 : [file for file in datalist if \"1.70\" in file and \"_QE\" in file][0],\n",
    "    # 1.75 : [file for file in datalist if \"1.75\" in file and \"_QE\" in file][0],\n",
    "    # 1.80 : [file for file in datalist if \"1.80\" in file and \"_QE\" in file][0]\n",
    "}\n",
    "\n",
    "fp_psk_trans = {\n",
    "    # 1.25 : [file for file in datalist if \"1.53\" in file and \"_tr\" in file][0],\n",
    "    # 1.63 : [file for file in datalist if \"1.63\" in file and \"_tr\" in file][0],\n",
    "    1.68 : [file for file in datalist if \"1.70\" in file and \"_tr\" in file][0],\n",
    "    # 1.70 : [file for file in datalist if \"1.70\" in file and \"_tr\" in file][0],\n",
    "    # 1.75 : [file for file in datalist if \"1.70\" in file and \"_tr\" in file][0],\n",
    "    # 1.80 : [file for file in datalist if \"1.70\" in file and \"_tr\" in file][0]\n",
    "}\n",
    "\n",
    "fp_psk_jv = {\n",
    "    # 1.25 : [file for file in datalist if \"1.25\" in file and \"_JV\" in file][0],\n",
    "    # 1.63 : [file for file in datalist if \"1.63\" in file and \"_JV\" in file][0],\n",
    "    1.68 : [file for file in datalist if \"1.68\" in file and \"_JV\" in file][0],\n",
    "    # 1.70 : [file for file in datalist if \"1.70\" in file and \"_JV\" in file][0],\n",
    "    # 1.75 : [file for file in datalist if \"1.75\" in file and \"_JV\" in file][0],\n",
    "    # 1.80 : [file for file in datalist if \"1.80\" in file and \"_JV\" in file][0]\n",
    "}\n",
    "\n",
    "\n",
    "# file_psk_trans = \"Pvsk0111D_1.7sb_tr.csv\"\n",
    "fp_si_eqe = [file for file in datalist if \"Si_ISFH-31_04_QE.xlsx\" in file][0] \n",
    "fp_si_jv = [file for file in datalist if \"Si_ISFH-31_04_JV.csv\" in file][0]\n",
    "\n",
    "\n"
   ]
  },
  {
   "cell_type": "code",
   "execution_count": 14,
   "id": "9b6051aa",
   "metadata": {},
   "outputs": [],
   "source": [
    "date_start = [datetime(2022, 1, 1, 0, 0, 0)]  # sunny day\n",
    "# days = np.arange() + 1 # always start with 1\n",
    "days = [1]\n",
    "resamplers = [\"5T\"]\n",
    "Rz_list = [1e-1, 1, 1e1]\n",
    "\n",
    "batches = [[date, day, resampler] for date in date_start for day in days for resampler in resamplers]\n",
    "# for i in trange(len(batches), desc=\"Batch\", colour=\"blue\"):\n",
    "#     date, day, resampler = batches[i]\n",
    "#     date_start, day, resampler = batches[i]\n",
    "\n",
    "#     date_end = date_start + pd.Timedelta(days=day) - pd.Timedelta(seconds=1)\n",
    "#     for Eg in fp_psk_eqe.keys():\n",
    "#         print(f\"start {date_start} to {date_end} - Eg = {Eg}\")\n",
    "    "
   ]
  },
  {
   "cell_type": "code",
   "execution_count": 15,
   "id": "0fe50928",
   "metadata": {},
   "outputs": [
    {
     "data": {
      "application/vnd.jupyter.widget-view+json": {
       "model_id": "c3b46cd683d94979878ee62cf122304c",
       "version_major": 2,
       "version_minor": 0
      },
      "text/plain": [
       "Batch:   0%|          | 0/1 [00:00<?, ?it/s]"
      ]
     },
     "metadata": {},
     "output_type": "display_data"
    },
    {
     "name": "stdout",
     "output_type": "stream",
     "text": [
      "loading environmental from internal from 2022-01-01 00:00:00 to 2022-01-01 23:59:59\n",
      "loading SRRL WISER global tracked from 2022-01-01 00:00:00 to 2022-01-01 23:59:59\n"
     ]
    },
    {
     "data": {
      "application/vnd.jupyter.widget-view+json": {
       "model_id": "cdab360d72384dd1b307f0f729cde82a",
       "version_major": 2,
       "version_minor": 0
      },
      "text/plain": [
       "  0%|          | 0/113 [00:00<?, ?it/s]"
      ]
     },
     "metadata": {},
     "output_type": "display_data"
    },
    {
     "data": {
      "application/vnd.jupyter.widget-view+json": {
       "model_id": "b74a1a332e4a4e36874d7cd6e7bf9d7f",
       "version_major": 2,
       "version_minor": 0
      },
      "text/plain": [
       "  0%|          | 0/113 [00:00<?, ?it/s]"
      ]
     },
     "metadata": {},
     "output_type": "display_data"
    },
    {
     "data": {
      "application/vnd.jupyter.widget-view+json": {
       "model_id": "dcd99d5ca38948f8b3b2cd2f7ef6ec0e",
       "version_major": 2,
       "version_minor": 0
      },
      "text/plain": [
       "  0%|          | 0/113 [00:00<?, ?it/s]"
      ]
     },
     "metadata": {},
     "output_type": "display_data"
    },
    {
     "data": {
      "application/vnd.jupyter.widget-view+json": {
       "model_id": "e75c191534de4628af8981cf610ded56",
       "version_major": 2,
       "version_minor": 0
      },
      "text/plain": [
       "  0%|          | 0/113 [00:00<?, ?it/s]"
      ]
     },
     "metadata": {},
     "output_type": "display_data"
    },
    {
     "data": {
      "application/vnd.jupyter.widget-view+json": {
       "model_id": "d5fe9b21b51348c798d932ae4560e726",
       "version_major": 2,
       "version_minor": 0
      },
      "text/plain": [
       "  0%|          | 0/113 [00:00<?, ?it/s]"
      ]
     },
     "metadata": {},
     "output_type": "display_data"
    },
    {
     "data": {
      "application/vnd.jupyter.widget-view+json": {
       "model_id": "ae58f43261f3424cb7350059f6610582",
       "version_major": 2,
       "version_minor": 0
      },
      "text/plain": [
       "  0%|          | 0/113 [00:00<?, ?it/s]"
      ]
     },
     "metadata": {},
     "output_type": "display_data"
    },
    {
     "data": {
      "application/vnd.jupyter.widget-view+json": {
       "model_id": "ef5b90d774df47b2a40b40e244ec2d2e",
       "version_major": 2,
       "version_minor": 0
      },
      "text/plain": [
       "  0%|          | 0/113 [00:00<?, ?it/s]"
      ]
     },
     "metadata": {},
     "output_type": "display_data"
    },
    {
     "data": {
      "application/vnd.jupyter.widget-view+json": {
       "model_id": "e210be0367fb4d89adb039891ed901e9",
       "version_major": 2,
       "version_minor": 0
      },
      "text/plain": [
       "  0%|          | 0/113 [00:00<?, ?it/s]"
      ]
     },
     "metadata": {},
     "output_type": "display_data"
    },
    {
     "data": {
      "application/vnd.jupyter.widget-view+json": {
       "model_id": "0db3a42e5c4944c3aa690b83013eb6f9",
       "version_major": 2,
       "version_minor": 0
      },
      "text/plain": [
       "  0%|          | 0/113 [00:00<?, ?it/s]"
      ]
     },
     "metadata": {},
     "output_type": "display_data"
    },
    {
     "data": {
      "application/vnd.jupyter.widget-view+json": {
       "model_id": "839cc22184a24c35acba87d7d6d94f96",
       "version_major": 2,
       "version_minor": 0
      },
      "text/plain": [
       "  0%|          | 0/113 [00:00<?, ?it/s]"
      ]
     },
     "metadata": {},
     "output_type": "display_data"
    },
    {
     "data": {
      "application/vnd.jupyter.widget-view+json": {
       "model_id": "650758f7e3c7433bb2425f18e55e8ebd",
       "version_major": 2,
       "version_minor": 0
      },
      "text/plain": [
       "  0%|          | 0/113 [00:00<?, ?it/s]"
      ]
     },
     "metadata": {},
     "output_type": "display_data"
    },
    {
     "data": {
      "application/vnd.jupyter.widget-view+json": {
       "model_id": "7a36e82fe980433887adc1ac9c6efa6b",
       "version_major": 2,
       "version_minor": 0
      },
      "text/plain": [
       "  0%|          | 0/113 [00:00<?, ?it/s]"
      ]
     },
     "metadata": {},
     "output_type": "display_data"
    }
   ],
   "source": [
    "for i in trange(len(batches), desc=\"Batch\", colour=\"blue\"):\n",
    "    date_start, day, resampler = batches[i]\n",
    "\n",
    "    date_end = date_start + pd.Timedelta(days=day) - pd.Timedelta(seconds=1)\n",
    "    # date_end = datetime(2022, 7, 1, 0, 0, 0) - pd.Timedelta(seconds=1)\n",
    "    spectra_label = \"get_srrl_wiser_global_track\"\n",
    "\n",
    "    meteo_location = get_meteo(date_start, date_end, resampler)\n",
    "\n",
    "    for Eg in fp_psk_eqe.keys():\n",
    "        \n",
    "        for Rz in Rz_list:\n",
    "\n",
    "            psc_params, si_params = get_jv_params(fp_psk_jv[Eg], fp_si_jv)\n",
    "            df_tandem_eqe, df_si_eqe_interp = get_tandem_eqe(fp_psk_eqe[Eg], fp_psk_trans[Eg], fp_si_eqe, psc_params, si_params)\n",
    "            df_tandem_eqe, meteo_location.spectra = match_eqe_spectra(df_tandem_eqe, meteo_location.spectra)\n",
    "            df_psk_eqe_interp = df_tandem_eqe.iloc[:,0]\n",
    "            df_si_eqe_filtered = df_tandem_eqe.iloc[:,1]\n",
    "\n",
    "            eg_si, sigma_si = calc_Eg_Rau(df_si_eqe_interp)\n",
    "            egs_si = si_eg_shift(meteo_location.TempCell, eg_si)\n",
    "            sigmas_si = si_sigma_shift(meteo_location.TempCell, sigma_si)\n",
    "\n",
    "            eg_psc, sigma_psc = calc_Eg_Rau(df_psk_eqe_interp)\n",
    "            egs_psc = psc_eg_shift(meteo_location.TempCell, eg_psc)\n",
    "            sigmas_psc = psc_sigma_shift(meteo_location.TempCell, sigma_psc)\n",
    "\n",
    "            si_jscs = shift_eqe(df_si_eqe_filtered, eg_si, sigma_si, egs_si, sigmas_si, meteo_location.spectra)\n",
    "            psc_jscs = shift_eqe(df_psk_eqe_interp, eg_psc, sigma_psc, egs_psc, sigmas_psc, meteo_location.spectra)\n",
    "\n",
    "            eqe = df_tandem_eqe.to_numpy(dtype=np.float64, copy=True)\n",
    "            lam = df_tandem_eqe.index.to_numpy(dtype=np.float64, copy=True)\n",
    "\n",
    "            EQE2J = pvc.EQE(eqe, lam, \"Psk-Si\")  # EQE class\n",
    "            EQE2J.sjuncs = [\"Psk\", \"Si\"]  # rename junctions\n",
    "\n",
    "            meteo_location.cellcurrents(EQE2J, STC=True)\n",
    "\n",
    "            meteo_location.Egs = np.array([egs_psc.values, egs_si.values]).T\n",
    "            meteo_location.Jscs = np.array([psc_jscs, si_jscs]).T / 1e3\n",
    "\n",
    "            dev3T = get_tandem_device(psc_params, si_params, df_si_eqe_filtered, eg_psc, eg_si)\n",
    "            dev3T.top.set(Rser=Rz)\n",
    "            dev2T = pvc.Multi2T.from_3T(dev3T)\n",
    "\n",
    "            sEY, rEY, sEYeff, rEYeff, sSTCeff, rSTCeff, sloss, rloss, ratio, t_elaps = run_single_core(dev3T, meteo_location)\n",
    "            # sEY_MP, rEY_MP, sEYeff_MP, rEYeff_MP, sSTCeff, rSTCeff, sloss, rloss, ratio, t_elapsMP = run_multi_core(dev3T, meteo_location)\n",
    "\n",
    "            df = pd.DataFrame()\n",
    "            df[\"ratio\"] = ratio\n",
    "            df[\"Eg\"] = Eg\n",
    "            # df[\"sEY\"] = sEY_MP\n",
    "            # df[\"rEY\"] = rEY_MP\n",
    "            # df[\"sEYeff\"] = sEYeff_MP\n",
    "            # df[\"rEYeff\"] = rEYeff_MP\n",
    "            df[\"sSTCeff\"] = sSTCeff\n",
    "            df[\"rSTCeff\"] = rSTCeff\n",
    "            df[\"sloss\"] = sloss\n",
    "            df[\"rloss\"] = rloss\n",
    "            df[\"date_start\"] = date_start\n",
    "            df[\"date_end\"] = date_end\n",
    "            df[\"duration\"] = t_elaps\n",
    "            df[\"durationMP\"] = t_elapsMP\n",
    "            df[\"times\"] = meteo_location.daytime.size\n",
    "            df[\"resampler\"] = resampler\n",
    "            df[\"spectra\"] = spectra_label\n",
    "\n",
    "            if results is None:\n",
    "                results = df\n",
    "            else:\n",
    "                results = pd.concat([results, df])\n",
    "            \n",
    "            # display.clear_output()\n"
   ]
  },
  {
   "cell_type": "code",
   "execution_count": 16,
   "id": "b35f2a00",
   "metadata": {},
   "outputs": [],
   "source": [
    "egs = np.array([model.top.Eg for model in meteo_location.models])\n",
    "# [model.oper for model in meteo_location.models]\n",
    "operation_modes = np.array(meteo_location.operation_modes)\n",
    "\n",
    "tandem_type = np.array(meteo_location.tandem_types)\n",
    "Rzs = np.array([model.top.Rser for model in meteo_location.models])"
   ]
  },
  {
   "cell_type": "code",
   "execution_count": 17,
   "id": "b3803e31",
   "metadata": {},
   "outputs": [
    {
     "name": "stderr",
     "output_type": "stream",
     "text": [
      "/var/folders/9g/q1s4db0s37z6gkqp7c8nw7b15yw74j/T/ipykernel_5540/115631984.py:8: UserWarning: FixedFormatter should only be used together with FixedLocator\n",
      "  ax.set_xticklabels(ax.get_xticks(), rotation=45, ha='right')  # Rotates X-Axis Ticks by 45-degrees\n"
     ]
    },
    {
     "data": {
      "image/png": "[encoded data removed]",
      "text/plain": [
       "<Figure size 640x480 with 1 Axes>"
      ]
     },
     "metadata": {},
     "output_type": "display_data"
    }
   ],
   "source": [
    "chose = 0\n",
    "# eg_filter = (egs == np.unique(egs)[chose]) & (operation_modes == \"MPP\") & (tandem_type == \"s\")\n",
    "eg_filter = egs == np.unique(egs)[chose]\n",
    "fig, ax = plt.subplots(1)\n",
    "# ax.plot(meteo_location.inPower,meteo_location.outPower[:,eg_filter], \"-\")\n",
    "ax.plot(meteo_location.daytime,meteo_location.outPower[:,eg_filter], \"-\")\n",
    "leg = ax.legend([f\"{eg:.2f}_{oper}_{type3T}_{Rz}\" for eg,oper,type3T,Rz in list(zip(egs[eg_filter], operation_modes[eg_filter], tandem_type[eg_filter], Rzs))],loc=\"upper left\", bbox_to_anchor=(1.01,1))\n",
    "ax.set_xticklabels(ax.get_xticks(), rotation=45, ha='right')  # Rotates X-Axis Ticks by 45-degrees\n",
    "ax.xaxis.set_major_formatter(mdates.DateFormatter('%y-%m-%dT%H:%M'))\n",
    "fig.savefig(f\"EY_jan_{np.unique(egs)[chose]:.2f}.png\", bbox_extra_artists=(leg,), bbox_inches='tight')\n"
   ]
  },
  {
   "cell_type": "code",
   "execution_count": 18,
   "id": "a479dad0",
   "metadata": {},
   "outputs": [
    {
     "name": "stderr",
     "output_type": "stream",
     "text": [
      "/var/folders/9g/q1s4db0s37z6gkqp7c8nw7b15yw74j/T/ipykernel_5540/2674573251.py:15: UserWarning: FixedFormatter should only be used together with FixedLocator\n",
      "  ax.set_xticklabels(ax.get_xticks(), rotation=45, ha='right')  # Rotates X-Axis Ticks by 45-degrees\n"
     ]
    },
    {
     "data": {
      "image/png": "[encoded data removed]",
      "text/plain": [
       "<Figure size 640x480 with 1 Axes>"
      ]
     },
     "metadata": {},
     "output_type": "display_data"
    }
   ],
   "source": [
    "# eg_filter = (egs == np.unique(egs)[chose]) & (operation_modes == \"MPP\") & (tandem_type == \"s\")\n",
    "eg_filter = egs == np.unique(egs)[chose]\n",
    "op_filter =  np.isin(operation_modes, [\"MPP\"])\n",
    "type_filter =  np.isin(tandem_type, [\"s\"])\n",
    "\n",
    "all_filter = eg_filter & op_filter & type_filter\n",
    "\n",
    "fig, ax = plt.subplots(1)\n",
    "# ax.plot(meteo_location.inPower,meteo_location.outPower[:,eg_filter], \"-\")\n",
    "ax.plot(meteo_location.daytime,meteo_location.outPower[:,all_filter] , \"-\")\n",
    "leg = ax.legend([f\"{eg:.2f}_{oper}_{type3T}_{Rz}\" for eg,oper,type3T,Rz in list(zip(egs[all_filter], operation_modes[all_filter], tandem_type[all_filter], Rzs[all_filter]))],loc=\"upper left\", bbox_to_anchor=(1.01,1))\n",
    "# ax.set_xticks(ax.get_xticks(),rotation=30)\n",
    "# ax.set_xticklabels(ax.get_xticks(), rotation = 45)\n",
    "# ax.set_xticklabels(ax.get_xticks(), rotation=45)  # Rotates X-Axis Ticks by 45-degrees\n",
    "ax.set_xticklabels(ax.get_xticks(), rotation=45, ha='right')  # Rotates X-Axis Ticks by 45-degrees\n",
    "ax.xaxis.set_major_formatter(mdates.DateFormatter('%Y-%m-%d'))\n",
    "fig.savefig(f\"RelEY_jan_{np.unique(egs)[chose]:.2f}.png\", bbox_extra_artists=(leg,), bbox_inches='tight')"
   ]
  },
  {
   "cell_type": "code",
   "execution_count": 19,
   "id": "1a166d70",
   "metadata": {},
   "outputs": [
    {
     "ename": "ValueError",
     "evalue": "operands could not be broadcast together with shapes (113,12) (113,3) ",
     "output_type": "error",
     "traceback": [
      "\u001b[0;31m---------------------------------------------------------------------------\u001b[0m",
      "\u001b[0;31mValueError\u001b[0m                                Traceback (most recent call last)",
      "Cell \u001b[0;32mIn[19], line 15\u001b[0m\n\u001b[1;32m     13\u001b[0m fig, ax \u001b[39m=\u001b[39m plt\u001b[39m.\u001b[39msubplots(\u001b[39m1\u001b[39m)\n\u001b[1;32m     14\u001b[0m \u001b[39m# ax.plot(meteo_location.inPower,meteo_location.outPower[:,eg_filter], \"-\")\u001b[39;00m\n\u001b[0;32m---> 15\u001b[0m ax\u001b[39m.\u001b[39mplot(meteo_location\u001b[39m.\u001b[39mdaytime,meteo_location\u001b[39m.\u001b[39;49moutPower[:,all_filter] \u001b[39m/\u001b[39;49m meteo_location\u001b[39m.\u001b[39;49moutPower[:,ref_filter], \u001b[39m\"\u001b[39m\u001b[39m-\u001b[39m\u001b[39m\"\u001b[39m)\n\u001b[1;32m     16\u001b[0m leg \u001b[39m=\u001b[39m ax\u001b[39m.\u001b[39mlegend([\u001b[39mf\u001b[39m\u001b[39m\"\u001b[39m\u001b[39m{\u001b[39;00meg\u001b[39m:\u001b[39;00m\u001b[39m.2f\u001b[39m\u001b[39m}\u001b[39;00m\u001b[39m_\u001b[39m\u001b[39m{\u001b[39;00moper\u001b[39m}\u001b[39;00m\u001b[39m_\u001b[39m\u001b[39m{\u001b[39;00mtype3T\u001b[39m}\u001b[39;00m\u001b[39m\"\u001b[39m \u001b[39mfor\u001b[39;00m eg,oper,type3T \u001b[39min\u001b[39;00m \u001b[39mlist\u001b[39m(\u001b[39mzip\u001b[39m(egs[eg_filter], operation_modes[eg_filter], tandem_type[eg_filter]))],loc\u001b[39m=\u001b[39m\u001b[39m\"\u001b[39m\u001b[39mupper left\u001b[39m\u001b[39m\"\u001b[39m, bbox_to_anchor\u001b[39m=\u001b[39m(\u001b[39m1.01\u001b[39m,\u001b[39m1\u001b[39m))\n\u001b[1;32m     17\u001b[0m \u001b[39m# ax.set_xticks(ax.get_xticks(),rotation=30)\u001b[39;00m\n\u001b[1;32m     18\u001b[0m \u001b[39m# ax.set_xticklabels(ax.get_xticks(), rotation = 45)\u001b[39;00m\n\u001b[1;32m     19\u001b[0m \u001b[39m# ax.set_xticklabels(ax.get_xticks(), rotation=45)  # Rotates X-Axis Ticks by 45-degrees\u001b[39;00m\n",
      "\u001b[0;31mValueError\u001b[0m: operands could not be broadcast together with shapes (113,12) (113,3) "
     ]
    },
    {
     "data": {
      "image/png": "[encoded data removed]",
      "text/plain": [
       "<Figure size 640x480 with 1 Axes>"
      ]
     },
     "metadata": {},
     "output_type": "display_data"
    }
   ],
   "source": [
    "# eg_filter = (egs == np.unique(egs)[chose]) & (operation_modes == \"MPP\") & (tandem_type == \"s\")\n",
    "eg_filter = egs == np.unique(egs)[chose]\n",
    "op_filter =  np.isin(operation_modes, [\"MPP\", \"VM21\", \"CM\"])\n",
    "type_filter =  np.isin(tandem_type, [\"s\", \"r\"])\n",
    "\n",
    "all_filter = eg_filter & op_filter & type_filter\n",
    "\n",
    "eg_filter = egs == np.unique(egs)[chose]\n",
    "op_filter =  np.isin(operation_modes, [\"MPP\"])\n",
    "type_filter =  np.isin(tandem_type, [\"s\"])\n",
    "ref_filter = eg_filter & op_filter & type_filter\n",
    "\n",
    "fig, ax = plt.subplots(1)\n",
    "# ax.plot(meteo_location.inPower,meteo_location.outPower[:,eg_filter], \"-\")\n",
    "ax.plot(meteo_location.daytime,meteo_location.outPower[:,all_filter] / meteo_location.outPower[:,ref_filter], \"-\")\n",
    "leg = ax.legend([f\"{eg:.2f}_{oper}_{type3T}\" for eg,oper,type3T in list(zip(egs[eg_filter], operation_modes[eg_filter], tandem_type[eg_filter]))],loc=\"upper left\", bbox_to_anchor=(1.01,1))\n",
    "# ax.set_xticks(ax.get_xticks(),rotation=30)\n",
    "# ax.set_xticklabels(ax.get_xticks(), rotation = 45)\n",
    "# ax.set_xticklabels(ax.get_xticks(), rotation=45)  # Rotates X-Axis Ticks by 45-degrees\n",
    "ax.set_xticklabels(ax.get_xticks(), rotation=45, ha='right')  # Rotates X-Axis Ticks by 45-degrees\n",
    "ax.xaxis.set_major_formatter(mdates.DateFormatter('%Y-%m-%d'))\n",
    "fig.savefig(f\"RelEY_jan_{np.unique(egs)[chose]:.2f}.png\", bbox_extra_artists=(leg,), bbox_inches='tight')"
   ]
  },
  {
   "cell_type": "code",
   "execution_count": null,
   "id": "b447e1fa",
   "metadata": {},
   "outputs": [],
   "source": [
    "# eg_filter = (egs == np.unique(egs)[chose]) & (operation_modes == \"MPP\") & (tandem_type == \"s\")\n",
    "eg_filter = egs == np.unique(egs)[chose]\n",
    "op_filter =  np.isin(operation_modes, [\"MPP\", \"VM21\", \"CM\"])\n",
    "type_filter =  np.isin(tandem_type, [\"s\", \"r\"])\n",
    "\n",
    "all_filter = eg_filter & op_filter & type_filter\n",
    "\n",
    "eg_filter = egs == np.unique(egs)[chose]\n",
    "op_filter =  np.isin(operation_modes, [\"MPP\"])\n",
    "type_filter =  np.isin(tandem_type, [\"s\"])\n",
    "ref_filter = eg_filter & op_filter & type_filter\n",
    "\n",
    "fig, ax = plt.subplots(1)\n",
    "# ax.plot(meteo_location.inPower,meteo_location.outPower[:,eg_filter], \"-\")\n",
    "ax.plot(meteo_location.outPower[:,all_filter] / np.tile(meteo_location.inPower,(4,1)).T, \"-\")\n",
    "leg = ax.legend([f\"{eg:.2f}_{oper}_{type3T}\" for eg,oper,type3T in list(zip(egs[eg_filter], operation_modes[eg_filter], tandem_type[eg_filter]))],loc=\"upper left\", bbox_to_anchor=(1.01,1))\n",
    "# ax.set_xticks(ax.get_xticks(),rotation=30)\n",
    "# ax.set_xticklabels(ax.get_xticks(), rotation = 45)\n",
    "# ax.set_xticklabels(ax.get_xticks(), rotation=45)  # Rotates X-Axis Ticks by 45-degrees\n",
    "ax.set_xticklabels(ax.get_xticks(), rotation=45, ha='right')  # Rotates X-Axis Ticks by 45-degrees\n",
    "ax.xaxis.set_major_formatter(mdates.DateFormatter('%Y-%m-%d'))\n",
    "# fig.savefig(f\"RelEY_jan_{np.unique(egs)[chose]:.2f}.png\", bbox_extra_artists=(leg,), bbox_inches='tight')"
   ]
  },
  {
   "cell_type": "code",
   "execution_count": null,
   "id": "c408ba6d",
   "metadata": {},
   "outputs": [],
   "source": [
    "df = self.testsite_data\n",
    "        # Filter modules\n",
    "        df = data_modifiers.apply_all(df)\n",
    "\n",
    "        fig = make_subplots(specs=[[{\"secondary_y\": True}]])\n",
    "        for (series_name, series_data) in df.iteritems():\n",
    "            fig.add_trace(\n",
    "                go.Scatter(\n",
    "                    name=series_name,\n",
    "                    mode=plot_type,\n",
    "                    x=series_data.index,\n",
    "                    y=series_data.values,\n",
    "                )\n",
    "            )\n",
    "\n",
    "        fig.update_xaxes(title_text=x_label)\n",
    "        fig.update_yaxes(title_text=y_label)\n",
    "        # fig.update_layout(width=1000)\n",
    "        fig.show()"
   ]
  },
  {
   "cell_type": "code",
   "execution_count": null,
   "id": "337e628b",
   "metadata": {},
   "outputs": [],
   "source": [
    "# print(all(meteo_location.outPower-meteo_location.outPowerMP < 1e-6))\n",
    "plt.figure()\n",
    "plt.plot(meteo_location.inPower, meteo_location.outPowerMP / meteo_location.inPower, \"*\")\n",
    "# plt.plot(meteo_location.Egs, \"*\")\n",
    "plt.show()\n"
   ]
  },
  {
   "cell_type": "code",
   "execution_count": null,
   "id": "9617a8c2",
   "metadata": {},
   "outputs": [],
   "source": [
    "fig, ax = plt.subplots()\n",
    "ax.plot(df[\"ratio\"], 100 * df[\"sSTCeff\"], c=\"black\", ms=3, lw=0, marker=\"s\", label=\"s-type cell STC\")\n",
    "ax.plot(df[\"ratio\"], 100 * df[\"rSTCeff\"], c=\"blue\", ms=3, lw=0, marker=\"o\", label=\"r-type cell STC\")\n",
    "ax.plot(df[\"ratio\"], 100 * df[\"sEYeff\"] * df[\"sloss\"], c=\"black\", ms=10, lw=0, marker=\"s\", label=\"s-type module(60cells) yield\")\n",
    "ax.plot(df[\"ratio\"], 100 * df[\"rEYeff\"] * df[\"rloss\"], c=\"blue\", ms=10, lw=0, marker=\"o\", label=\"r-type module(60cells) yield\")\n",
    "ax.set_ylim(15, 45)\n",
    "ax.set_ylabel(\"Efficiency (%)\")\n",
    "ax.set_xlabel(\"Voltage-Matching Ratio (m/n)\")\n",
    "ax.text(3, 16, \"3T\", ha=\"center\")\n",
    "ax.text(0, 20, \"2T\", ha=\"center\", rotation=\"vertical\")\n",
    "ax.text(-1.0, 22, \"4T\", ha=\"center\", rotation=\"vertical\")\n",
    "ax.legend()\n",
    "\n",
    "labels = [item.get_text() for item in ax.get_xticklabels()]\n",
    "labels[1] = '4T'\n",
    "labels[2] = '2T'\n",
    "ax.set_xticklabels(labels)"
   ]
  },
  {
   "cell_type": "code",
   "execution_count": null,
   "id": "e754c38f-7a66-40ad-b5f3-cf00c5880df6",
   "metadata": {},
   "outputs": [],
   "source": [
    "# cell = os.path.basename(fp_psk_eqe[Eg]).split(\"_\")[1]\n",
    "# fig.savefig(f\"./{date_start:%Y-%m-%d}_{date_end:%Y-%m-%d}_meteo_location_{resampler}_{spectra_label}_{cell}.png\")\n"
   ]
  },
  {
   "cell_type": "code",
   "execution_count": null,
   "id": "037d437a",
   "metadata": {},
   "outputs": [],
   "source": [
    "results.date_end"
   ]
  },
  {
   "cell_type": "code",
   "execution_count": null,
   "id": "62c055a7",
   "metadata": {},
   "outputs": [],
   "source": [
    "json_settings = {\"orient\": \"split\"}\n",
    "# stats = pd.DataFrame(\n",
    "#     [\n",
    "#         {\n",
    "#             \"date_start\": results.date_start.apply(lambda x: x.strftime(\"%Y-%m-%d\")),\n",
    "#             \"date_end\": results.date_start.apply(lambda x: x.strftime(\"%Y-%m-%d\")),\n",
    "#             \"duration\": t_elaps,\n",
    "#             \"durationMP\": t_elapsMP,\n",
    "#             \"times\": meteo_location.daytime.size,\n",
    "#             \"resampler\": resampler,\n",
    "#         }\n",
    "#     ]\n",
    "# )\n",
    "\n",
    "stats = pd.concat([results.date_start.apply(lambda x: x.strftime(\"%Y-%m-%d\")), results.date_end.apply(lambda x: x.strftime(\"%Y-%m-%d\")),results.duration, results.durationMP, results.times, results.resampler],axis=1)\n",
    "\n",
    "\n",
    "if os.path.exists(\"./stats.json\"):\n",
    "    old_stats = pd.read_json(\"./stats.json\")\n",
    "    stats = pd.concat([old_stats, stats]).reset_index(drop=True)\n",
    "    stats.to_json(\"./stats.json\")\n",
    "else:\n",
    "    stats.to_json(\"./stats.json\")\n"
   ]
  },
  {
   "cell_type": "code",
   "execution_count": null,
   "id": "59de45d5",
   "metadata": {},
   "outputs": [],
   "source": [
    "stats = pd.read_json(\"./stats.json\")\n",
    "fig, ax = plt.subplots()\n",
    "\n",
    "\n",
    "fit = np.polyfit(\n",
    "    np.log(stats[\"times\"][~np.isnan(np.log(stats[\"duration\"]))]), np.log(stats[\"duration\"][~np.isnan(np.log(stats[\"duration\"]))]), 1\n",
    ")\n",
    "\n",
    "fit_x = np.linspace(np.min(stats[\"times\"]), np.max(stats[\"times\"]), 50)\n",
    "fit_y = np.polyval(fit, fit_x)\n",
    "\n",
    "plt.plot(stats[\"times\"], stats[\"duration\"], \"k*\")\n",
    "plt.plot(stats[\"times\"], stats[\"durationMP\"], \"r*\")\n",
    "plt.plot(fit_x, fit_y, \"--\")\n",
    "stats[\"duration\"] / stats[\"times\"]\n",
    "# ax.set_xlim(left=1)\n",
    "ax.set_xscale(\"log\")\n",
    "ax.set_yscale(\"log\")\n",
    "ax.set_xlabel(\"Number of time steps [-]\")\n",
    "ax.set_ylabel(\"Simulation duration [s]\")\n",
    "fit\n"
   ]
  },
  {
   "cell_type": "code",
   "execution_count": null,
   "id": "42ca1625",
   "metadata": {},
   "outputs": [],
   "source": [
    "stats\n",
    "fig, ax = plt.subplots()\n",
    "\n",
    "# fit = np.polyfit(np.log(stats[\"times\"]), np.log(stats[\"duration\"]), 1)\n",
    "fit = np.polyfit(stats[\"times\"][~np.isnan(np.log(stats[\"duration\"]))], stats[\"duration\"][~np.isnan(np.log(stats[\"duration\"]))], 1)\n",
    "\n",
    "\n",
    "fit_x = np.linspace(np.min(stats[\"times\"]), np.max(stats[\"times\"]), 50)\n",
    "# fit_y = np.polyval(fit, fit_x)\n",
    "# fit_y = np.exp(fit[1] + fit[0] * np.log(fit_x))\n",
    "fit_y = fit[1] + fit[0] * (fit_x)\n",
    "# fit_y_lin = fit[1] + fit[0] * fit_x\n",
    "# fit_y_lin = np.log(fit[1]) + fit_x**(fit[0])\n",
    "\n",
    "plt.plot(stats[\"times\"], stats[\"duration\"], \"k*\", label=\"Single processing\")\n",
    "plt.plot(stats[\"times\"], stats[\"durationMP\"], \"rs\", label=\"Multi processing\")\n",
    "plt.plot(fit_x, fit_y, \"--\")\n",
    "# plt.plot(fit_x, fit_y_lin, \"--\")\n",
    "stats[\"duration\"] / stats[\"times\"]\n",
    "# ax.set_xlim(left=1)\n",
    "# ax.set_xscale(\"log\")\n",
    "# ax.set_yscale(\"log\")\n",
    "ax.set_xlabel(\"Number of time steps [-]\")\n",
    "ax.set_ylabel(\"Simulation duration [s]\")\n",
    "\n",
    "leg = ax.legend()\n",
    "fit\n"
   ]
  },
  {
   "cell_type": "code",
   "execution_count": null,
   "id": "0f6e9e1e",
   "metadata": {},
   "outputs": [],
   "source": [
    "df_old = pd.read_csv(\"results\", index_col=0)\n",
    "df_new = pd.concat([df_old, df]).reset_index(drop=True)\n",
    "df_new.to_csv(\"results\")\n"
   ]
  },
  {
   "cell_type": "code",
   "execution_count": null,
   "id": "b98cff35",
   "metadata": {},
   "outputs": [],
   "source": [
    "start = 25\n",
    "stop = 105\n",
    "step = 5\n",
    "loop = (stop - start) / step * 2\n",
    "\n",
    "data = []\n",
    "print(loop)\n",
    "for i in np.arange(loop):\n",
    "    if i < (loop + 1) / 2:\n",
    "        val = start + i * step\n",
    "    else:\n",
    "        val = start + (loop-i) * step\n",
    "    \n",
    "    data.append(val)\n",
    "    print(val)\n",
    "    \n",
    "plt.plot(np.arange(loop), data)\n",
    "plt.show()"
   ]
  }
 ],
 "metadata": {
  "kernelspec": {
   "display_name": "Python 3.10.8 (conda)",
   "language": "python",
   "name": "python3"
  },
  "language_info": {
   "codemirror_mode": {
    "name": "ipython",
    "version": 3
   },
   "file_extension": ".py",
   "mimetype": "text/x-python",
   "name": "python",
   "nbconvert_exporter": "python",
   "pygments_lexer": "ipython3",
   "version": "3.10.8"
  },
  "vscode": {
   "interpreter": {
    "hash": "4c8d326477d41455416c8e0e2e18ef9a939daf77158909d74b8113ed4fa4a1cf"
   }
  }
 },
 "nbformat": 4,
 "nbformat_minor": 5
}
