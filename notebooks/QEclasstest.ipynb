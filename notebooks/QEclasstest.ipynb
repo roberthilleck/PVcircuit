{
 "cells": [
  {
   "cell_type": "code",
   "execution_count": 1,
   "id": "a7915722-ba35-4f64-884d-156ff5f74319",
   "metadata": {},
   "outputs": [],
   "source": [
    "%load_ext autoreload\n",
    "%autoreload 2"
   ]
  },
  {
   "cell_type": "markdown",
   "id": "975dd143-da1c-4814-ac9b-d3eab8ec98f3",
   "metadata": {},
   "source": [
    "# Correct EQE of 4J IMM solar cell data for luminescent coupling\n",
    "###  Example MS874 from J. F. Geisz, et al., IEEE Journal of Photovoltaics __5__, 1827 (2015). "
   ]
  },
  {
   "cell_type": "code",
   "execution_count": 2,
   "id": "b2c27ce3-bd05-4e25-8122-652c7c21dadb",
   "metadata": {},
   "outputs": [
    {
     "name": "stdout",
     "output_type": "stream",
     "text": [
      "Tandems version 0.989\n",
      "Data path is:  c:\\Users\\rwitteck\\Documents\\Coding\\Python\\PVcircuit_fork\\.env\\lib\\site-packages\\tandems/data/\n"
     ]
    },
    {
     "name": "stderr",
     "output_type": "stream",
     "text": [
      "c:\\users\\rwitteck\\documents\\coding\\python\\pvcircuit_fork\\pvcircuit\\EY.py:17: TqdmExperimentalWarning: Using `tqdm.autonotebook.tqdm` in notebook mode. Use `tqdm.tqdm` instead to force console mode (e.g. in jupyter console)\n",
      "  from tqdm.autonotebook import tqdm, trange\n"
     ]
    }
   ],
   "source": [
    "import pandas as pd\n",
    "import numpy as np\n",
    "from cycler import cycler\n",
    "import matplotlib.pyplot as plt\n",
    "import pvcircuit as pvc\n",
    "import ipywidgets as widgets\n",
    "from pvcircuit.PlotWithControls import PlotsWithControls\n",
    "%matplotlib widget"
   ]
  },
  {
   "cell_type": "code",
   "execution_count": 3,
   "id": "fe1d7be0-9ff8-4e94-a6b0-12c83f7d88f4",
   "metadata": {},
   "outputs": [
    {
     "data": {
      "text/plain": [
       "<contextlib.ExitStack at 0x2373f4b2500>"
      ]
     },
     "execution_count": 3,
     "metadata": {},
     "output_type": "execute_result"
    }
   ],
   "source": [
    "#import EQE of MM927 4J\n",
    "path = pvc.datapath\n",
    "\n",
    "file = 'MM927Bn5CEQE.csv'\n",
    "df4J  = pd.read_csv(path+file, index_col=0)\n",
    "MM927_EQE = df4J.to_numpy(dtype=np.float64, copy=True) #numpy.ndarray\n",
    "MM927_xEQE = df4J.index.to_numpy(dtype=np.float64, copy=True) #numpy.ndarray\n",
    "\n",
    "EQE4J = pvc.EQE(MM927_EQE, MM927_xEQE, 'MM927')\n",
    "plt.ioff()"
   ]
  },
  {
   "cell_type": "code",
   "execution_count": 4,
   "id": "65d85a3e-5731-4924-b609-3284a384ebb2",
   "metadata": {},
   "outputs": [
    {
     "data": {
      "application/vnd.jupyter.widget-view+json": {
       "model_id": "5d49636c735c4932a8f811163ed8aa99",
       "version_major": 2,
       "version_minor": 0
      },
      "text/plain": [
       "VBox(children=(Output(), Output(layout=Layout(height='70px')), HBox(children=(Label(value='EQE: ', description…"
      ]
     },
     "metadata": {},
     "output_type": "display_data"
    }
   ],
   "source": [
    "# ui, ax, rax = EQE4J.controls(Pspec='direct')\n",
    "# ui\n",
    "pwc = PlotsWithControls(EQE4J,Pspec='direct')\n",
    "pwc.ui"
   ]
  },
  {
   "cell_type": "code",
   "execution_count": null,
   "id": "f8c8e55f-b2aa-403d-9dd8-13d05b49641a",
   "metadata": {},
   "outputs": [],
   "source": []
  },
  {
   "cell_type": "code",
   "execution_count": null,
   "id": "3fc112d5",
   "metadata": {},
   "outputs": [],
   "source": []
  }
 ],
 "metadata": {
  "kernelspec": {
   "display_name": "Python 3 (ipykernel)",
   "language": "python",
   "name": "python3"
  },
  "language_info": {
   "codemirror_mode": {
    "name": "ipython",
    "version": 3
   },
   "file_extension": ".py",
   "mimetype": "text/x-python",
   "name": "python",
   "nbconvert_exporter": "python",
   "pygments_lexer": "ipython3",
   "version": "3.10.4"
  },
  "vscode": {
   "interpreter": {
    "hash": "dc070d6cee39151c3b0080ab3695dfb3932ba9d9f4dbb61e19fb67f1d121a868"
   }
  }
 },
 "nbformat": 4,
 "nbformat_minor": 5
}
